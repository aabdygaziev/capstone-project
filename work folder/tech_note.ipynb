{
 "cells": [
  {
   "cell_type": "code",
   "execution_count": 1,
   "metadata": {},
   "outputs": [],
   "source": [
    "import pandas as pd\n",
    "import numpy as np\n",
    "import gc\n",
    "import matplotlib.pyplot as plt"
   ]
  },
  {
   "cell_type": "code",
   "execution_count": 2,
   "metadata": {},
   "outputs": [],
   "source": [
    "df = pd.read_csv('final_train.csv',index_col='TransactionID')"
   ]
  },
  {
   "cell_type": "code",
   "execution_count": 3,
   "metadata": {},
   "outputs": [
    {
     "data": {
      "text/html": [
       "<div>\n",
       "<style scoped>\n",
       "    .dataframe tbody tr th:only-of-type {\n",
       "        vertical-align: middle;\n",
       "    }\n",
       "\n",
       "    .dataframe tbody tr th {\n",
       "        vertical-align: top;\n",
       "    }\n",
       "\n",
       "    .dataframe thead th {\n",
       "        text-align: right;\n",
       "    }\n",
       "</style>\n",
       "<table border=\"1\" class=\"dataframe\">\n",
       "  <thead>\n",
       "    <tr style=\"text-align: right;\">\n",
       "      <th></th>\n",
       "      <th>Unnamed: 0</th>\n",
       "      <th>Unnamed: 0.1</th>\n",
       "      <th>isFraud</th>\n",
       "      <th>TransactionDT</th>\n",
       "      <th>TransactionAmt</th>\n",
       "      <th>ProductCD</th>\n",
       "      <th>card1</th>\n",
       "      <th>card2</th>\n",
       "      <th>card3</th>\n",
       "      <th>card4</th>\n",
       "      <th>...</th>\n",
       "      <th>V312</th>\n",
       "      <th>V313</th>\n",
       "      <th>V314</th>\n",
       "      <th>V315</th>\n",
       "      <th>V316</th>\n",
       "      <th>V317</th>\n",
       "      <th>V318</th>\n",
       "      <th>V319</th>\n",
       "      <th>V320</th>\n",
       "      <th>V321</th>\n",
       "    </tr>\n",
       "    <tr>\n",
       "      <th>TransactionID</th>\n",
       "      <th></th>\n",
       "      <th></th>\n",
       "      <th></th>\n",
       "      <th></th>\n",
       "      <th></th>\n",
       "      <th></th>\n",
       "      <th></th>\n",
       "      <th></th>\n",
       "      <th></th>\n",
       "      <th></th>\n",
       "      <th></th>\n",
       "      <th></th>\n",
       "      <th></th>\n",
       "      <th></th>\n",
       "      <th></th>\n",
       "      <th></th>\n",
       "      <th></th>\n",
       "      <th></th>\n",
       "      <th></th>\n",
       "      <th></th>\n",
       "      <th></th>\n",
       "    </tr>\n",
       "  </thead>\n",
       "  <tbody>\n",
       "    <tr>\n",
       "      <td>2987000</td>\n",
       "      <td>0</td>\n",
       "      <td>0</td>\n",
       "      <td>0</td>\n",
       "      <td>86400</td>\n",
       "      <td>68.5</td>\n",
       "      <td>W</td>\n",
       "      <td>13926</td>\n",
       "      <td>362.555488</td>\n",
       "      <td>150.0</td>\n",
       "      <td>discover</td>\n",
       "      <td>...</td>\n",
       "      <td>0.0</td>\n",
       "      <td>0.0</td>\n",
       "      <td>0.0</td>\n",
       "      <td>0.0</td>\n",
       "      <td>0.0</td>\n",
       "      <td>117.0</td>\n",
       "      <td>0.0</td>\n",
       "      <td>0.0</td>\n",
       "      <td>0.0</td>\n",
       "      <td>0.0</td>\n",
       "    </tr>\n",
       "    <tr>\n",
       "      <td>2987001</td>\n",
       "      <td>1</td>\n",
       "      <td>1</td>\n",
       "      <td>0</td>\n",
       "      <td>86401</td>\n",
       "      <td>29.0</td>\n",
       "      <td>W</td>\n",
       "      <td>2755</td>\n",
       "      <td>404.000000</td>\n",
       "      <td>150.0</td>\n",
       "      <td>mastercard</td>\n",
       "      <td>...</td>\n",
       "      <td>0.0</td>\n",
       "      <td>0.0</td>\n",
       "      <td>0.0</td>\n",
       "      <td>0.0</td>\n",
       "      <td>0.0</td>\n",
       "      <td>0.0</td>\n",
       "      <td>0.0</td>\n",
       "      <td>0.0</td>\n",
       "      <td>0.0</td>\n",
       "      <td>0.0</td>\n",
       "    </tr>\n",
       "    <tr>\n",
       "      <td>2987002</td>\n",
       "      <td>2</td>\n",
       "      <td>2</td>\n",
       "      <td>0</td>\n",
       "      <td>86469</td>\n",
       "      <td>59.0</td>\n",
       "      <td>W</td>\n",
       "      <td>4663</td>\n",
       "      <td>490.000000</td>\n",
       "      <td>150.0</td>\n",
       "      <td>visa</td>\n",
       "      <td>...</td>\n",
       "      <td>0.0</td>\n",
       "      <td>0.0</td>\n",
       "      <td>0.0</td>\n",
       "      <td>0.0</td>\n",
       "      <td>0.0</td>\n",
       "      <td>0.0</td>\n",
       "      <td>0.0</td>\n",
       "      <td>0.0</td>\n",
       "      <td>0.0</td>\n",
       "      <td>0.0</td>\n",
       "    </tr>\n",
       "    <tr>\n",
       "      <td>2987003</td>\n",
       "      <td>3</td>\n",
       "      <td>3</td>\n",
       "      <td>0</td>\n",
       "      <td>86499</td>\n",
       "      <td>50.0</td>\n",
       "      <td>W</td>\n",
       "      <td>18132</td>\n",
       "      <td>567.000000</td>\n",
       "      <td>150.0</td>\n",
       "      <td>mastercard</td>\n",
       "      <td>...</td>\n",
       "      <td>135.0</td>\n",
       "      <td>0.0</td>\n",
       "      <td>0.0</td>\n",
       "      <td>0.0</td>\n",
       "      <td>50.0</td>\n",
       "      <td>1404.0</td>\n",
       "      <td>790.0</td>\n",
       "      <td>0.0</td>\n",
       "      <td>0.0</td>\n",
       "      <td>0.0</td>\n",
       "    </tr>\n",
       "    <tr>\n",
       "      <td>2987004</td>\n",
       "      <td>4</td>\n",
       "      <td>4</td>\n",
       "      <td>0</td>\n",
       "      <td>86506</td>\n",
       "      <td>50.0</td>\n",
       "      <td>H</td>\n",
       "      <td>4497</td>\n",
       "      <td>514.000000</td>\n",
       "      <td>150.0</td>\n",
       "      <td>mastercard</td>\n",
       "      <td>...</td>\n",
       "      <td>0.0</td>\n",
       "      <td>0.0</td>\n",
       "      <td>0.0</td>\n",
       "      <td>0.0</td>\n",
       "      <td>0.0</td>\n",
       "      <td>0.0</td>\n",
       "      <td>0.0</td>\n",
       "      <td>0.0</td>\n",
       "      <td>0.0</td>\n",
       "      <td>0.0</td>\n",
       "    </tr>\n",
       "  </tbody>\n",
       "</table>\n",
       "<p>5 rows × 202 columns</p>\n",
       "</div>"
      ],
      "text/plain": [
       "               Unnamed: 0  Unnamed: 0.1  isFraud  TransactionDT  \\\n",
       "TransactionID                                                     \n",
       "2987000                 0             0        0          86400   \n",
       "2987001                 1             1        0          86401   \n",
       "2987002                 2             2        0          86469   \n",
       "2987003                 3             3        0          86499   \n",
       "2987004                 4             4        0          86506   \n",
       "\n",
       "               TransactionAmt ProductCD  card1       card2  card3       card4  \\\n",
       "TransactionID                                                                   \n",
       "2987000                  68.5         W  13926  362.555488  150.0    discover   \n",
       "2987001                  29.0         W   2755  404.000000  150.0  mastercard   \n",
       "2987002                  59.0         W   4663  490.000000  150.0        visa   \n",
       "2987003                  50.0         W  18132  567.000000  150.0  mastercard   \n",
       "2987004                  50.0         H   4497  514.000000  150.0  mastercard   \n",
       "\n",
       "               ...   V312 V313  V314  V315  V316    V317   V318  V319  V320  \\\n",
       "TransactionID  ...                                                            \n",
       "2987000        ...    0.0  0.0   0.0   0.0   0.0   117.0    0.0   0.0   0.0   \n",
       "2987001        ...    0.0  0.0   0.0   0.0   0.0     0.0    0.0   0.0   0.0   \n",
       "2987002        ...    0.0  0.0   0.0   0.0   0.0     0.0    0.0   0.0   0.0   \n",
       "2987003        ...  135.0  0.0   0.0   0.0  50.0  1404.0  790.0   0.0   0.0   \n",
       "2987004        ...    0.0  0.0   0.0   0.0   0.0     0.0    0.0   0.0   0.0   \n",
       "\n",
       "               V321  \n",
       "TransactionID        \n",
       "2987000         0.0  \n",
       "2987001         0.0  \n",
       "2987002         0.0  \n",
       "2987003         0.0  \n",
       "2987004         0.0  \n",
       "\n",
       "[5 rows x 202 columns]"
      ]
     },
     "execution_count": 3,
     "metadata": {},
     "output_type": "execute_result"
    }
   ],
   "source": [
    "df.head()"
   ]
  },
  {
   "cell_type": "code",
   "execution_count": 4,
   "metadata": {},
   "outputs": [],
   "source": [
    "df.drop(['Unnamed: 0','Unnamed: 0.1'],axis=1,inplace=True)"
   ]
  },
  {
   "cell_type": "markdown",
   "metadata": {},
   "source": [
    "## Data Exploration"
   ]
  },
  {
   "cell_type": "code",
   "execution_count": 12,
   "metadata": {},
   "outputs": [
    {
     "data": {
      "text/plain": [
       "0    515169\n",
       "1     17838\n",
       "Name: isFraud, dtype: int64"
      ]
     },
     "execution_count": 12,
     "metadata": {},
     "output_type": "execute_result"
    }
   ],
   "source": [
    "df['isFraud'].value_counts()"
   ]
  },
  {
   "cell_type": "code",
   "execution_count": 5,
   "metadata": {},
   "outputs": [
    {
     "data": {
      "image/png": "[encoded data removed]",
      "text/plain": [
       "<Figure size 432x288 with 1 Axes>"
      ]
     },
     "metadata": {
      "needs_background": "light"
     },
     "output_type": "display_data"
    }
   ],
   "source": [
    "# imbalanced dataset\n",
    "df['isFraud'].hist()\n",
    "plt.show()"
   ]
  },
  {
   "cell_type": "code",
   "execution_count": 6,
   "metadata": {},
   "outputs": [
    {
     "data": {
      "text/html": [
       "<div>\n",
       "<style scoped>\n",
       "    .dataframe tbody tr th:only-of-type {\n",
       "        vertical-align: middle;\n",
       "    }\n",
       "\n",
       "    .dataframe tbody tr th {\n",
       "        vertical-align: top;\n",
       "    }\n",
       "\n",
       "    .dataframe thead th {\n",
       "        text-align: right;\n",
       "    }\n",
       "</style>\n",
       "<table border=\"1\" class=\"dataframe\">\n",
       "  <thead>\n",
       "    <tr style=\"text-align: right;\">\n",
       "      <th></th>\n",
       "      <th>ProductCD</th>\n",
       "      <th>card4</th>\n",
       "      <th>card6</th>\n",
       "      <th>P_emaildomain</th>\n",
       "    </tr>\n",
       "    <tr>\n",
       "      <th>TransactionID</th>\n",
       "      <th></th>\n",
       "      <th></th>\n",
       "      <th></th>\n",
       "      <th></th>\n",
       "    </tr>\n",
       "  </thead>\n",
       "  <tbody>\n",
       "    <tr>\n",
       "      <td>2987000</td>\n",
       "      <td>W</td>\n",
       "      <td>discover</td>\n",
       "      <td>credit</td>\n",
       "      <td>gmail.com</td>\n",
       "    </tr>\n",
       "    <tr>\n",
       "      <td>2987001</td>\n",
       "      <td>W</td>\n",
       "      <td>mastercard</td>\n",
       "      <td>credit</td>\n",
       "      <td>gmail.com</td>\n",
       "    </tr>\n",
       "    <tr>\n",
       "      <td>2987002</td>\n",
       "      <td>W</td>\n",
       "      <td>visa</td>\n",
       "      <td>debit</td>\n",
       "      <td>outlook.com</td>\n",
       "    </tr>\n",
       "    <tr>\n",
       "      <td>2987003</td>\n",
       "      <td>W</td>\n",
       "      <td>mastercard</td>\n",
       "      <td>debit</td>\n",
       "      <td>yahoo.com</td>\n",
       "    </tr>\n",
       "    <tr>\n",
       "      <td>2987004</td>\n",
       "      <td>H</td>\n",
       "      <td>mastercard</td>\n",
       "      <td>credit</td>\n",
       "      <td>gmail.com</td>\n",
       "    </tr>\n",
       "    <tr>\n",
       "      <td>...</td>\n",
       "      <td>...</td>\n",
       "      <td>...</td>\n",
       "      <td>...</td>\n",
       "      <td>...</td>\n",
       "    </tr>\n",
       "    <tr>\n",
       "      <td>3577535</td>\n",
       "      <td>W</td>\n",
       "      <td>visa</td>\n",
       "      <td>debit</td>\n",
       "      <td>gmail.com</td>\n",
       "    </tr>\n",
       "    <tr>\n",
       "      <td>3577536</td>\n",
       "      <td>W</td>\n",
       "      <td>mastercard</td>\n",
       "      <td>debit</td>\n",
       "      <td>gmail.com</td>\n",
       "    </tr>\n",
       "    <tr>\n",
       "      <td>3577537</td>\n",
       "      <td>W</td>\n",
       "      <td>mastercard</td>\n",
       "      <td>debit</td>\n",
       "      <td>gmail.com</td>\n",
       "    </tr>\n",
       "    <tr>\n",
       "      <td>3577538</td>\n",
       "      <td>W</td>\n",
       "      <td>mastercard</td>\n",
       "      <td>debit</td>\n",
       "      <td>aol.com</td>\n",
       "    </tr>\n",
       "    <tr>\n",
       "      <td>3577539</td>\n",
       "      <td>W</td>\n",
       "      <td>mastercard</td>\n",
       "      <td>credit</td>\n",
       "      <td>gmail.com</td>\n",
       "    </tr>\n",
       "  </tbody>\n",
       "</table>\n",
       "<p>590540 rows × 4 columns</p>\n",
       "</div>"
      ],
      "text/plain": [
       "              ProductCD       card4   card6 P_emaildomain\n",
       "TransactionID                                            \n",
       "2987000               W    discover  credit     gmail.com\n",
       "2987001               W  mastercard  credit     gmail.com\n",
       "2987002               W        visa   debit   outlook.com\n",
       "2987003               W  mastercard   debit     yahoo.com\n",
       "2987004               H  mastercard  credit     gmail.com\n",
       "...                 ...         ...     ...           ...\n",
       "3577535               W        visa   debit     gmail.com\n",
       "3577536               W  mastercard   debit     gmail.com\n",
       "3577537               W  mastercard   debit     gmail.com\n",
       "3577538               W  mastercard   debit       aol.com\n",
       "3577539               W  mastercard  credit     gmail.com\n",
       "\n",
       "[590540 rows x 4 columns]"
      ]
     },
     "execution_count": 6,
     "metadata": {},
     "output_type": "execute_result"
    }
   ],
   "source": [
    "# explore categorical features\n",
    "df.select_dtypes(include='O')"
   ]
  },
  {
   "cell_type": "code",
   "execution_count": 7,
   "metadata": {},
   "outputs": [
    {
     "data": {
      "image/png": "[encoded data removed]",
      "text/plain": [
       "<Figure size 432x288 with 1 Axes>"
      ]
     },
     "metadata": {
      "needs_background": "light"
     },
     "output_type": "display_data"
    }
   ],
   "source": [
    "# Product code count\n",
    "df['ProductCD'].value_counts().plot(kind='bar')\n",
    "plt.show()"
   ]
  },
  {
   "cell_type": "code",
   "execution_count": 8,
   "metadata": {},
   "outputs": [
    {
     "data": {
      "text/plain": [
       "<matplotlib.axes._subplots.AxesSubplot at 0x120534890>"
      ]
     },
     "execution_count": 8,
     "metadata": {},
     "output_type": "execute_result"
    },
    {
     "data": {
      "image/png": "[encoded data removed]",
      "text/plain": [
       "<Figure size 432x288 with 1 Axes>"
      ]
     },
     "metadata": {
      "needs_background": "light"
     },
     "output_type": "display_data"
    }
   ],
   "source": [
    "# credit card count\n",
    "df['card4'].value_counts().plot(kind='bar')"
   ]
  },
  {
   "cell_type": "code",
   "execution_count": 9,
   "metadata": {},
   "outputs": [
    {
     "data": {
      "image/png": "[encoded data removed]",
      "text/plain": [
       "<Figure size 720x360 with 1 Axes>"
      ]
     },
     "metadata": {
      "needs_background": "light"
     },
     "output_type": "display_data"
    }
   ],
   "source": [
    "# email distribution\n",
    "df['P_emaildomain'].value_counts().plot(kind='bar', figsize=(10,5))\n",
    "plt.show()"
   ]
  },
  {
   "cell_type": "code",
   "execution_count": 10,
   "metadata": {},
   "outputs": [
    {
     "data": {
      "text/html": [
       "<div>\n",
       "<style scoped>\n",
       "    .dataframe tbody tr th:only-of-type {\n",
       "        vertical-align: middle;\n",
       "    }\n",
       "\n",
       "    .dataframe tbody tr th {\n",
       "        vertical-align: top;\n",
       "    }\n",
       "\n",
       "    .dataframe thead th {\n",
       "        text-align: right;\n",
       "    }\n",
       "</style>\n",
       "<table border=\"1\" class=\"dataframe\">\n",
       "  <thead>\n",
       "    <tr style=\"text-align: right;\">\n",
       "      <th></th>\n",
       "      <th>isFraud</th>\n",
       "      <th>TransactionDT</th>\n",
       "      <th>TransactionAmt</th>\n",
       "      <th>card1</th>\n",
       "      <th>card2</th>\n",
       "      <th>card3</th>\n",
       "      <th>card5</th>\n",
       "      <th>addr1</th>\n",
       "      <th>addr2</th>\n",
       "      <th>C1</th>\n",
       "      <th>...</th>\n",
       "      <th>V312</th>\n",
       "      <th>V313</th>\n",
       "      <th>V314</th>\n",
       "      <th>V315</th>\n",
       "      <th>V316</th>\n",
       "      <th>V317</th>\n",
       "      <th>V318</th>\n",
       "      <th>V319</th>\n",
       "      <th>V320</th>\n",
       "      <th>V321</th>\n",
       "    </tr>\n",
       "    <tr>\n",
       "      <th>TransactionID</th>\n",
       "      <th></th>\n",
       "      <th></th>\n",
       "      <th></th>\n",
       "      <th></th>\n",
       "      <th></th>\n",
       "      <th></th>\n",
       "      <th></th>\n",
       "      <th></th>\n",
       "      <th></th>\n",
       "      <th></th>\n",
       "      <th></th>\n",
       "      <th></th>\n",
       "      <th></th>\n",
       "      <th></th>\n",
       "      <th></th>\n",
       "      <th></th>\n",
       "      <th></th>\n",
       "      <th></th>\n",
       "      <th></th>\n",
       "      <th></th>\n",
       "      <th></th>\n",
       "    </tr>\n",
       "  </thead>\n",
       "  <tbody>\n",
       "    <tr>\n",
       "      <td>2987000</td>\n",
       "      <td>0</td>\n",
       "      <td>86400</td>\n",
       "      <td>68.50</td>\n",
       "      <td>13926</td>\n",
       "      <td>362.555488</td>\n",
       "      <td>150.0</td>\n",
       "      <td>142.0</td>\n",
       "      <td>315.0</td>\n",
       "      <td>87.0</td>\n",
       "      <td>1.0</td>\n",
       "      <td>...</td>\n",
       "      <td>0.0</td>\n",
       "      <td>0.000000</td>\n",
       "      <td>0.000000</td>\n",
       "      <td>0.000000</td>\n",
       "      <td>0.0</td>\n",
       "      <td>117.0</td>\n",
       "      <td>0.0</td>\n",
       "      <td>0.000000</td>\n",
       "      <td>0.000000</td>\n",
       "      <td>0.000000</td>\n",
       "    </tr>\n",
       "    <tr>\n",
       "      <td>2987001</td>\n",
       "      <td>0</td>\n",
       "      <td>86401</td>\n",
       "      <td>29.00</td>\n",
       "      <td>2755</td>\n",
       "      <td>404.000000</td>\n",
       "      <td>150.0</td>\n",
       "      <td>102.0</td>\n",
       "      <td>325.0</td>\n",
       "      <td>87.0</td>\n",
       "      <td>1.0</td>\n",
       "      <td>...</td>\n",
       "      <td>0.0</td>\n",
       "      <td>0.000000</td>\n",
       "      <td>0.000000</td>\n",
       "      <td>0.000000</td>\n",
       "      <td>0.0</td>\n",
       "      <td>0.0</td>\n",
       "      <td>0.0</td>\n",
       "      <td>0.000000</td>\n",
       "      <td>0.000000</td>\n",
       "      <td>0.000000</td>\n",
       "    </tr>\n",
       "    <tr>\n",
       "      <td>2987002</td>\n",
       "      <td>0</td>\n",
       "      <td>86469</td>\n",
       "      <td>59.00</td>\n",
       "      <td>4663</td>\n",
       "      <td>490.000000</td>\n",
       "      <td>150.0</td>\n",
       "      <td>166.0</td>\n",
       "      <td>330.0</td>\n",
       "      <td>87.0</td>\n",
       "      <td>1.0</td>\n",
       "      <td>...</td>\n",
       "      <td>0.0</td>\n",
       "      <td>0.000000</td>\n",
       "      <td>0.000000</td>\n",
       "      <td>0.000000</td>\n",
       "      <td>0.0</td>\n",
       "      <td>0.0</td>\n",
       "      <td>0.0</td>\n",
       "      <td>0.000000</td>\n",
       "      <td>0.000000</td>\n",
       "      <td>0.000000</td>\n",
       "    </tr>\n",
       "    <tr>\n",
       "      <td>2987003</td>\n",
       "      <td>0</td>\n",
       "      <td>86499</td>\n",
       "      <td>50.00</td>\n",
       "      <td>18132</td>\n",
       "      <td>567.000000</td>\n",
       "      <td>150.0</td>\n",
       "      <td>117.0</td>\n",
       "      <td>476.0</td>\n",
       "      <td>87.0</td>\n",
       "      <td>2.0</td>\n",
       "      <td>...</td>\n",
       "      <td>135.0</td>\n",
       "      <td>0.000000</td>\n",
       "      <td>0.000000</td>\n",
       "      <td>0.000000</td>\n",
       "      <td>50.0</td>\n",
       "      <td>1404.0</td>\n",
       "      <td>790.0</td>\n",
       "      <td>0.000000</td>\n",
       "      <td>0.000000</td>\n",
       "      <td>0.000000</td>\n",
       "    </tr>\n",
       "    <tr>\n",
       "      <td>2987004</td>\n",
       "      <td>0</td>\n",
       "      <td>86506</td>\n",
       "      <td>50.00</td>\n",
       "      <td>4497</td>\n",
       "      <td>514.000000</td>\n",
       "      <td>150.0</td>\n",
       "      <td>102.0</td>\n",
       "      <td>420.0</td>\n",
       "      <td>87.0</td>\n",
       "      <td>1.0</td>\n",
       "      <td>...</td>\n",
       "      <td>0.0</td>\n",
       "      <td>0.000000</td>\n",
       "      <td>0.000000</td>\n",
       "      <td>0.000000</td>\n",
       "      <td>0.0</td>\n",
       "      <td>0.0</td>\n",
       "      <td>0.0</td>\n",
       "      <td>0.000000</td>\n",
       "      <td>0.000000</td>\n",
       "      <td>0.000000</td>\n",
       "    </tr>\n",
       "    <tr>\n",
       "      <td>...</td>\n",
       "      <td>...</td>\n",
       "      <td>...</td>\n",
       "      <td>...</td>\n",
       "      <td>...</td>\n",
       "      <td>...</td>\n",
       "      <td>...</td>\n",
       "      <td>...</td>\n",
       "      <td>...</td>\n",
       "      <td>...</td>\n",
       "      <td>...</td>\n",
       "      <td>...</td>\n",
       "      <td>...</td>\n",
       "      <td>...</td>\n",
       "      <td>...</td>\n",
       "      <td>...</td>\n",
       "      <td>...</td>\n",
       "      <td>...</td>\n",
       "      <td>...</td>\n",
       "      <td>...</td>\n",
       "      <td>...</td>\n",
       "      <td>...</td>\n",
       "    </tr>\n",
       "    <tr>\n",
       "      <td>3577535</td>\n",
       "      <td>0</td>\n",
       "      <td>15811047</td>\n",
       "      <td>49.00</td>\n",
       "      <td>6550</td>\n",
       "      <td>362.555488</td>\n",
       "      <td>150.0</td>\n",
       "      <td>226.0</td>\n",
       "      <td>272.0</td>\n",
       "      <td>87.0</td>\n",
       "      <td>2.0</td>\n",
       "      <td>...</td>\n",
       "      <td>0.0</td>\n",
       "      <td>47.950001</td>\n",
       "      <td>47.950001</td>\n",
       "      <td>47.950001</td>\n",
       "      <td>0.0</td>\n",
       "      <td>0.0</td>\n",
       "      <td>0.0</td>\n",
       "      <td>0.000000</td>\n",
       "      <td>0.000000</td>\n",
       "      <td>0.000000</td>\n",
       "    </tr>\n",
       "    <tr>\n",
       "      <td>3577536</td>\n",
       "      <td>0</td>\n",
       "      <td>15811049</td>\n",
       "      <td>39.50</td>\n",
       "      <td>10444</td>\n",
       "      <td>225.000000</td>\n",
       "      <td>150.0</td>\n",
       "      <td>224.0</td>\n",
       "      <td>204.0</td>\n",
       "      <td>87.0</td>\n",
       "      <td>1.0</td>\n",
       "      <td>...</td>\n",
       "      <td>0.0</td>\n",
       "      <td>0.000000</td>\n",
       "      <td>0.000000</td>\n",
       "      <td>0.000000</td>\n",
       "      <td>0.0</td>\n",
       "      <td>0.0</td>\n",
       "      <td>0.0</td>\n",
       "      <td>0.000000</td>\n",
       "      <td>0.000000</td>\n",
       "      <td>0.000000</td>\n",
       "    </tr>\n",
       "    <tr>\n",
       "      <td>3577537</td>\n",
       "      <td>0</td>\n",
       "      <td>15811079</td>\n",
       "      <td>30.95</td>\n",
       "      <td>12037</td>\n",
       "      <td>595.000000</td>\n",
       "      <td>150.0</td>\n",
       "      <td>224.0</td>\n",
       "      <td>231.0</td>\n",
       "      <td>87.0</td>\n",
       "      <td>1.0</td>\n",
       "      <td>...</td>\n",
       "      <td>0.0</td>\n",
       "      <td>0.000000</td>\n",
       "      <td>0.000000</td>\n",
       "      <td>0.000000</td>\n",
       "      <td>0.0</td>\n",
       "      <td>0.0</td>\n",
       "      <td>0.0</td>\n",
       "      <td>0.000000</td>\n",
       "      <td>0.000000</td>\n",
       "      <td>0.000000</td>\n",
       "    </tr>\n",
       "    <tr>\n",
       "      <td>3577538</td>\n",
       "      <td>0</td>\n",
       "      <td>15811088</td>\n",
       "      <td>117.00</td>\n",
       "      <td>7826</td>\n",
       "      <td>481.000000</td>\n",
       "      <td>150.0</td>\n",
       "      <td>224.0</td>\n",
       "      <td>387.0</td>\n",
       "      <td>87.0</td>\n",
       "      <td>1.0</td>\n",
       "      <td>...</td>\n",
       "      <td>117.0</td>\n",
       "      <td>317.500000</td>\n",
       "      <td>669.500000</td>\n",
       "      <td>317.500000</td>\n",
       "      <td>0.0</td>\n",
       "      <td>2234.0</td>\n",
       "      <td>0.0</td>\n",
       "      <td>0.000000</td>\n",
       "      <td>0.000000</td>\n",
       "      <td>0.000000</td>\n",
       "    </tr>\n",
       "    <tr>\n",
       "      <td>3577539</td>\n",
       "      <td>0</td>\n",
       "      <td>15811131</td>\n",
       "      <td>279.95</td>\n",
       "      <td>15066</td>\n",
       "      <td>170.000000</td>\n",
       "      <td>150.0</td>\n",
       "      <td>102.0</td>\n",
       "      <td>299.0</td>\n",
       "      <td>87.0</td>\n",
       "      <td>2.0</td>\n",
       "      <td>...</td>\n",
       "      <td>0.0</td>\n",
       "      <td>0.000000</td>\n",
       "      <td>0.000000</td>\n",
       "      <td>0.000000</td>\n",
       "      <td>0.0</td>\n",
       "      <td>0.0</td>\n",
       "      <td>0.0</td>\n",
       "      <td>279.950012</td>\n",
       "      <td>279.950012</td>\n",
       "      <td>279.950012</td>\n",
       "    </tr>\n",
       "  </tbody>\n",
       "</table>\n",
       "<p>590540 rows × 196 columns</p>\n",
       "</div>"
      ],
      "text/plain": [
       "               isFraud  TransactionDT  TransactionAmt  card1       card2  \\\n",
       "TransactionID                                                              \n",
       "2987000              0          86400           68.50  13926  362.555488   \n",
       "2987001              0          86401           29.00   2755  404.000000   \n",
       "2987002              0          86469           59.00   4663  490.000000   \n",
       "2987003              0          86499           50.00  18132  567.000000   \n",
       "2987004              0          86506           50.00   4497  514.000000   \n",
       "...                ...            ...             ...    ...         ...   \n",
       "3577535              0       15811047           49.00   6550  362.555488   \n",
       "3577536              0       15811049           39.50  10444  225.000000   \n",
       "3577537              0       15811079           30.95  12037  595.000000   \n",
       "3577538              0       15811088          117.00   7826  481.000000   \n",
       "3577539              0       15811131          279.95  15066  170.000000   \n",
       "\n",
       "               card3  card5  addr1  addr2   C1  ...   V312        V313  \\\n",
       "TransactionID                                   ...                      \n",
       "2987000        150.0  142.0  315.0   87.0  1.0  ...    0.0    0.000000   \n",
       "2987001        150.0  102.0  325.0   87.0  1.0  ...    0.0    0.000000   \n",
       "2987002        150.0  166.0  330.0   87.0  1.0  ...    0.0    0.000000   \n",
       "2987003        150.0  117.0  476.0   87.0  2.0  ...  135.0    0.000000   \n",
       "2987004        150.0  102.0  420.0   87.0  1.0  ...    0.0    0.000000   \n",
       "...              ...    ...    ...    ...  ...  ...    ...         ...   \n",
       "3577535        150.0  226.0  272.0   87.0  2.0  ...    0.0   47.950001   \n",
       "3577536        150.0  224.0  204.0   87.0  1.0  ...    0.0    0.000000   \n",
       "3577537        150.0  224.0  231.0   87.0  1.0  ...    0.0    0.000000   \n",
       "3577538        150.0  224.0  387.0   87.0  1.0  ...  117.0  317.500000   \n",
       "3577539        150.0  102.0  299.0   87.0  2.0  ...    0.0    0.000000   \n",
       "\n",
       "                     V314        V315  V316    V317   V318        V319  \\\n",
       "TransactionID                                                            \n",
       "2987000          0.000000    0.000000   0.0   117.0    0.0    0.000000   \n",
       "2987001          0.000000    0.000000   0.0     0.0    0.0    0.000000   \n",
       "2987002          0.000000    0.000000   0.0     0.0    0.0    0.000000   \n",
       "2987003          0.000000    0.000000  50.0  1404.0  790.0    0.000000   \n",
       "2987004          0.000000    0.000000   0.0     0.0    0.0    0.000000   \n",
       "...                   ...         ...   ...     ...    ...         ...   \n",
       "3577535         47.950001   47.950001   0.0     0.0    0.0    0.000000   \n",
       "3577536          0.000000    0.000000   0.0     0.0    0.0    0.000000   \n",
       "3577537          0.000000    0.000000   0.0     0.0    0.0    0.000000   \n",
       "3577538        669.500000  317.500000   0.0  2234.0    0.0    0.000000   \n",
       "3577539          0.000000    0.000000   0.0     0.0    0.0  279.950012   \n",
       "\n",
       "                     V320        V321  \n",
       "TransactionID                          \n",
       "2987000          0.000000    0.000000  \n",
       "2987001          0.000000    0.000000  \n",
       "2987002          0.000000    0.000000  \n",
       "2987003          0.000000    0.000000  \n",
       "2987004          0.000000    0.000000  \n",
       "...                   ...         ...  \n",
       "3577535          0.000000    0.000000  \n",
       "3577536          0.000000    0.000000  \n",
       "3577537          0.000000    0.000000  \n",
       "3577538          0.000000    0.000000  \n",
       "3577539        279.950012  279.950012  \n",
       "\n",
       "[590540 rows x 196 columns]"
      ]
     },
     "execution_count": 10,
     "metadata": {},
     "output_type": "execute_result"
    }
   ],
   "source": [
    "# explore numeric features\n",
    "df.select_dtypes(exclude='O')"
   ]
  },
  {
   "cell_type": "code",
   "execution_count": 11,
   "metadata": {},
   "outputs": [
    {
     "data": {
      "text/plain": [
       "<matplotlib.axes._subplots.AxesSubplot at 0x120467710>"
      ]
     },
     "execution_count": 11,
     "metadata": {},
     "output_type": "execute_result"
    },
    {
     "data": {
      "image/png": "[encoded data removed]",
      "text/plain": [
       "<Figure size 432x288 with 1 Axes>"
      ]
     },
     "metadata": {
      "needs_background": "light"
     },
     "output_type": "display_data"
    }
   ],
   "source": [
    "df['card1'].hist()"
   ]
  },
  {
   "cell_type": "code",
   "execution_count": 12,
   "metadata": {},
   "outputs": [
    {
     "data": {
      "text/plain": [
       "<matplotlib.axes._subplots.AxesSubplot at 0x120473710>"
      ]
     },
     "execution_count": 12,
     "metadata": {},
     "output_type": "execute_result"
    },
    {
     "data": {
      "image/png": "[encoded data removed]",
      "text/plain": [
       "<Figure size 432x288 with 1 Axes>"
      ]
     },
     "metadata": {
      "needs_background": "light"
     },
     "output_type": "display_data"
    }
   ],
   "source": [
    "df['card2'].hist()"
   ]
  },
  {
   "cell_type": "code",
   "execution_count": 13,
   "metadata": {},
   "outputs": [
    {
     "data": {
      "text/plain": [
       "<matplotlib.axes._subplots.AxesSubplot at 0x1205f5550>"
      ]
     },
     "execution_count": 13,
     "metadata": {},
     "output_type": "execute_result"
    },
    {
     "data": {
      "image/png": "[encoded data removed]",
      "text/plain": [
       "<Figure size 432x288 with 1 Axes>"
      ]
     },
     "metadata": {
      "needs_background": "light"
     },
     "output_type": "display_data"
    }
   ],
   "source": [
    "df['card5'].hist()"
   ]
  },
  {
   "cell_type": "code",
   "execution_count": 14,
   "metadata": {},
   "outputs": [
    {
     "data": {
      "text/plain": [
       "<matplotlib.axes._subplots.AxesSubplot at 0x120622350>"
      ]
     },
     "execution_count": 14,
     "metadata": {},
     "output_type": "execute_result"
    },
    {
     "data": {
      "image/png": "[encoded data removed]",
      "text/plain": [
       "<Figure size 432x288 with 1 Axes>"
      ]
     },
     "metadata": {
      "needs_background": "light"
     },
     "output_type": "display_data"
    }
   ],
   "source": [
    "df['addr1'].hist()"
   ]
  },
  {
   "cell_type": "code",
   "execution_count": 15,
   "metadata": {},
   "outputs": [
    {
     "data": {
      "text/plain": [
       "<matplotlib.axes._subplots.AxesSubplot at 0x1202d1850>"
      ]
     },
     "execution_count": 15,
     "metadata": {},
     "output_type": "execute_result"
    },
    {
     "data": {
      "image/png": "[encoded data removed]",
      "text/plain": [
       "<Figure size 432x288 with 1 Axes>"
      ]
     },
     "metadata": {
      "needs_background": "light"
     },
     "output_type": "display_data"
    }
   ],
   "source": [
    "df['addr2'].hist()"
   ]
  },
  {
   "cell_type": "code",
   "execution_count": 16,
   "metadata": {},
   "outputs": [
    {
     "data": {
      "text/plain": [
       "<matplotlib.axes._subplots.AxesSubplot at 0x11efebd90>"
      ]
     },
     "execution_count": 16,
     "metadata": {},
     "output_type": "execute_result"
    },
    {
     "data": {
      "image/png": "[encoded data removed]",
      "text/plain": [
       "<Figure size 432x288 with 1 Axes>"
      ]
     },
     "metadata": {
      "needs_background": "light"
     },
     "output_type": "display_data"
    }
   ],
   "source": [
    "df['TransactionDT'].hist()"
   ]
  },
  {
   "cell_type": "code",
   "execution_count": 17,
   "metadata": {},
   "outputs": [
    {
     "name": "stdout",
     "output_type": "stream",
     "text": [
      "mean 135.02717637247264\n",
      "max 31937.391\n",
      "min 0.251\n",
      "mode 0    59.0\n",
      "dtype: float64\n",
      "median 68.769\n"
     ]
    }
   ],
   "source": [
    "# TransactionAmt have some outliers\n",
    "print('mean',df['TransactionAmt'].mean())\n",
    "print('max',df['TransactionAmt'].max())\n",
    "print('min',df['TransactionAmt'].min())\n",
    "print('mode',df['TransactionAmt'].mode())\n",
    "print('median',df['TransactionAmt'].median())"
   ]
  },
  {
   "cell_type": "code",
   "execution_count": 18,
   "metadata": {},
   "outputs": [
    {
     "data": {
      "text/html": [
       "<div>\n",
       "<style scoped>\n",
       "    .dataframe tbody tr th:only-of-type {\n",
       "        vertical-align: middle;\n",
       "    }\n",
       "\n",
       "    .dataframe tbody tr th {\n",
       "        vertical-align: top;\n",
       "    }\n",
       "\n",
       "    .dataframe thead th {\n",
       "        text-align: right;\n",
       "    }\n",
       "</style>\n",
       "<table border=\"1\" class=\"dataframe\">\n",
       "  <thead>\n",
       "    <tr style=\"text-align: right;\">\n",
       "      <th></th>\n",
       "      <th>isFraud</th>\n",
       "      <th>TransactionDT</th>\n",
       "      <th>TransactionAmt</th>\n",
       "      <th>card1</th>\n",
       "      <th>card2</th>\n",
       "      <th>card3</th>\n",
       "      <th>card5</th>\n",
       "      <th>addr1</th>\n",
       "      <th>addr2</th>\n",
       "      <th>C1</th>\n",
       "      <th>...</th>\n",
       "      <th>V312</th>\n",
       "      <th>V313</th>\n",
       "      <th>V314</th>\n",
       "      <th>V315</th>\n",
       "      <th>V316</th>\n",
       "      <th>V317</th>\n",
       "      <th>V318</th>\n",
       "      <th>V319</th>\n",
       "      <th>V320</th>\n",
       "      <th>V321</th>\n",
       "    </tr>\n",
       "  </thead>\n",
       "  <tbody>\n",
       "    <tr>\n",
       "      <td>count</td>\n",
       "      <td>590540.000000</td>\n",
       "      <td>5.905400e+05</td>\n",
       "      <td>590540.000000</td>\n",
       "      <td>590540.000000</td>\n",
       "      <td>590540.000000</td>\n",
       "      <td>590540.000000</td>\n",
       "      <td>590540.000000</td>\n",
       "      <td>590540.000000</td>\n",
       "      <td>590540.000000</td>\n",
       "      <td>590540.000000</td>\n",
       "      <td>...</td>\n",
       "      <td>590540.00000</td>\n",
       "      <td>590540.000000</td>\n",
       "      <td>590540.000000</td>\n",
       "      <td>590540.000000</td>\n",
       "      <td>590540.000000</td>\n",
       "      <td>590540.000000</td>\n",
       "      <td>590540.000000</td>\n",
       "      <td>590540.000000</td>\n",
       "      <td>590540.000000</td>\n",
       "      <td>590540.000000</td>\n",
       "    </tr>\n",
       "    <tr>\n",
       "      <td>mean</td>\n",
       "      <td>0.034990</td>\n",
       "      <td>7.372311e+06</td>\n",
       "      <td>135.027176</td>\n",
       "      <td>9898.734658</td>\n",
       "      <td>362.555488</td>\n",
       "      <td>153.194925</td>\n",
       "      <td>199.278897</td>\n",
       "      <td>290.733794</td>\n",
       "      <td>86.800630</td>\n",
       "      <td>14.092458</td>\n",
       "      <td>...</td>\n",
       "      <td>39.17391</td>\n",
       "      <td>21.351473</td>\n",
       "      <td>43.319174</td>\n",
       "      <td>26.806977</td>\n",
       "      <td>109.818544</td>\n",
       "      <td>247.606741</td>\n",
       "      <td>162.153398</td>\n",
       "      <td>18.372476</td>\n",
       "      <td>42.073133</td>\n",
       "      <td>28.326584</td>\n",
       "    </tr>\n",
       "    <tr>\n",
       "      <td>std</td>\n",
       "      <td>0.183755</td>\n",
       "      <td>4.617224e+06</td>\n",
       "      <td>239.162522</td>\n",
       "      <td>4901.170153</td>\n",
       "      <td>156.595240</td>\n",
       "      <td>11.321413</td>\n",
       "      <td>41.095455</td>\n",
       "      <td>95.914128</td>\n",
       "      <td>2.536525</td>\n",
       "      <td>133.569018</td>\n",
       "      <td>...</td>\n",
       "      <td>172.12659</td>\n",
       "      <td>95.799872</td>\n",
       "      <td>173.432384</td>\n",
       "      <td>116.727602</td>\n",
       "      <td>2270.010138</td>\n",
       "      <td>3980.002390</td>\n",
       "      <td>2793.315255</td>\n",
       "      <td>332.301472</td>\n",
       "      <td>473.494496</td>\n",
       "      <td>382.049290</td>\n",
       "    </tr>\n",
       "    <tr>\n",
       "      <td>min</td>\n",
       "      <td>0.000000</td>\n",
       "      <td>8.640000e+04</td>\n",
       "      <td>0.251000</td>\n",
       "      <td>1000.000000</td>\n",
       "      <td>100.000000</td>\n",
       "      <td>100.000000</td>\n",
       "      <td>100.000000</td>\n",
       "      <td>100.000000</td>\n",
       "      <td>10.000000</td>\n",
       "      <td>0.000000</td>\n",
       "      <td>...</td>\n",
       "      <td>0.00000</td>\n",
       "      <td>0.000000</td>\n",
       "      <td>0.000000</td>\n",
       "      <td>0.000000</td>\n",
       "      <td>0.000000</td>\n",
       "      <td>0.000000</td>\n",
       "      <td>0.000000</td>\n",
       "      <td>0.000000</td>\n",
       "      <td>0.000000</td>\n",
       "      <td>0.000000</td>\n",
       "    </tr>\n",
       "    <tr>\n",
       "      <td>25%</td>\n",
       "      <td>0.000000</td>\n",
       "      <td>3.027058e+06</td>\n",
       "      <td>43.321000</td>\n",
       "      <td>6019.000000</td>\n",
       "      <td>215.000000</td>\n",
       "      <td>150.000000</td>\n",
       "      <td>166.000000</td>\n",
       "      <td>205.000000</td>\n",
       "      <td>87.000000</td>\n",
       "      <td>1.000000</td>\n",
       "      <td>...</td>\n",
       "      <td>0.00000</td>\n",
       "      <td>0.000000</td>\n",
       "      <td>0.000000</td>\n",
       "      <td>0.000000</td>\n",
       "      <td>0.000000</td>\n",
       "      <td>0.000000</td>\n",
       "      <td>0.000000</td>\n",
       "      <td>0.000000</td>\n",
       "      <td>0.000000</td>\n",
       "      <td>0.000000</td>\n",
       "    </tr>\n",
       "    <tr>\n",
       "      <td>50%</td>\n",
       "      <td>0.000000</td>\n",
       "      <td>7.306528e+06</td>\n",
       "      <td>68.769000</td>\n",
       "      <td>9678.000000</td>\n",
       "      <td>361.000000</td>\n",
       "      <td>150.000000</td>\n",
       "      <td>226.000000</td>\n",
       "      <td>290.733794</td>\n",
       "      <td>87.000000</td>\n",
       "      <td>1.000000</td>\n",
       "      <td>...</td>\n",
       "      <td>0.00000</td>\n",
       "      <td>0.000000</td>\n",
       "      <td>0.000000</td>\n",
       "      <td>0.000000</td>\n",
       "      <td>0.000000</td>\n",
       "      <td>0.000000</td>\n",
       "      <td>0.000000</td>\n",
       "      <td>0.000000</td>\n",
       "      <td>0.000000</td>\n",
       "      <td>0.000000</td>\n",
       "    </tr>\n",
       "    <tr>\n",
       "      <td>75%</td>\n",
       "      <td>0.000000</td>\n",
       "      <td>1.124662e+07</td>\n",
       "      <td>125.000000</td>\n",
       "      <td>14184.000000</td>\n",
       "      <td>512.000000</td>\n",
       "      <td>150.000000</td>\n",
       "      <td>226.000000</td>\n",
       "      <td>327.000000</td>\n",
       "      <td>87.000000</td>\n",
       "      <td>3.000000</td>\n",
       "      <td>...</td>\n",
       "      <td>0.00000</td>\n",
       "      <td>0.000000</td>\n",
       "      <td>0.000000</td>\n",
       "      <td>0.000000</td>\n",
       "      <td>0.000000</td>\n",
       "      <td>0.000000</td>\n",
       "      <td>0.000000</td>\n",
       "      <td>0.000000</td>\n",
       "      <td>0.000000</td>\n",
       "      <td>0.000000</td>\n",
       "    </tr>\n",
       "    <tr>\n",
       "      <td>max</td>\n",
       "      <td>1.000000</td>\n",
       "      <td>1.581113e+07</td>\n",
       "      <td>31937.391000</td>\n",
       "      <td>18396.000000</td>\n",
       "      <td>600.000000</td>\n",
       "      <td>231.000000</td>\n",
       "      <td>237.000000</td>\n",
       "      <td>540.000000</td>\n",
       "      <td>102.000000</td>\n",
       "      <td>4685.000000</td>\n",
       "      <td>...</td>\n",
       "      <td>55125.00000</td>\n",
       "      <td>4817.470215</td>\n",
       "      <td>7519.870117</td>\n",
       "      <td>4817.470215</td>\n",
       "      <td>93736.000000</td>\n",
       "      <td>134021.000000</td>\n",
       "      <td>98476.000000</td>\n",
       "      <td>104060.000000</td>\n",
       "      <td>104060.000000</td>\n",
       "      <td>104060.000000</td>\n",
       "    </tr>\n",
       "  </tbody>\n",
       "</table>\n",
       "<p>8 rows × 196 columns</p>\n",
       "</div>"
      ],
      "text/plain": [
       "             isFraud  TransactionDT  TransactionAmt          card1  \\\n",
       "count  590540.000000   5.905400e+05   590540.000000  590540.000000   \n",
       "mean        0.034990   7.372311e+06      135.027176    9898.734658   \n",
       "std         0.183755   4.617224e+06      239.162522    4901.170153   \n",
       "min         0.000000   8.640000e+04        0.251000    1000.000000   \n",
       "25%         0.000000   3.027058e+06       43.321000    6019.000000   \n",
       "50%         0.000000   7.306528e+06       68.769000    9678.000000   \n",
       "75%         0.000000   1.124662e+07      125.000000   14184.000000   \n",
       "max         1.000000   1.581113e+07    31937.391000   18396.000000   \n",
       "\n",
       "               card2          card3          card5          addr1  \\\n",
       "count  590540.000000  590540.000000  590540.000000  590540.000000   \n",
       "mean      362.555488     153.194925     199.278897     290.733794   \n",
       "std       156.595240      11.321413      41.095455      95.914128   \n",
       "min       100.000000     100.000000     100.000000     100.000000   \n",
       "25%       215.000000     150.000000     166.000000     205.000000   \n",
       "50%       361.000000     150.000000     226.000000     290.733794   \n",
       "75%       512.000000     150.000000     226.000000     327.000000   \n",
       "max       600.000000     231.000000     237.000000     540.000000   \n",
       "\n",
       "               addr2             C1  ...          V312           V313  \\\n",
       "count  590540.000000  590540.000000  ...  590540.00000  590540.000000   \n",
       "mean       86.800630      14.092458  ...      39.17391      21.351473   \n",
       "std         2.536525     133.569018  ...     172.12659      95.799872   \n",
       "min        10.000000       0.000000  ...       0.00000       0.000000   \n",
       "25%        87.000000       1.000000  ...       0.00000       0.000000   \n",
       "50%        87.000000       1.000000  ...       0.00000       0.000000   \n",
       "75%        87.000000       3.000000  ...       0.00000       0.000000   \n",
       "max       102.000000    4685.000000  ...   55125.00000    4817.470215   \n",
       "\n",
       "                V314           V315           V316           V317  \\\n",
       "count  590540.000000  590540.000000  590540.000000  590540.000000   \n",
       "mean       43.319174      26.806977     109.818544     247.606741   \n",
       "std       173.432384     116.727602    2270.010138    3980.002390   \n",
       "min         0.000000       0.000000       0.000000       0.000000   \n",
       "25%         0.000000       0.000000       0.000000       0.000000   \n",
       "50%         0.000000       0.000000       0.000000       0.000000   \n",
       "75%         0.000000       0.000000       0.000000       0.000000   \n",
       "max      7519.870117    4817.470215   93736.000000  134021.000000   \n",
       "\n",
       "                V318           V319           V320           V321  \n",
       "count  590540.000000  590540.000000  590540.000000  590540.000000  \n",
       "mean      162.153398      18.372476      42.073133      28.326584  \n",
       "std      2793.315255     332.301472     473.494496     382.049290  \n",
       "min         0.000000       0.000000       0.000000       0.000000  \n",
       "25%         0.000000       0.000000       0.000000       0.000000  \n",
       "50%         0.000000       0.000000       0.000000       0.000000  \n",
       "75%         0.000000       0.000000       0.000000       0.000000  \n",
       "max     98476.000000  104060.000000  104060.000000  104060.000000  \n",
       "\n",
       "[8 rows x 196 columns]"
      ]
     },
     "execution_count": 18,
     "metadata": {},
     "output_type": "execute_result"
    }
   ],
   "source": [
    "df.describe()"
   ]
  },
  {
   "cell_type": "markdown",
   "metadata": {},
   "source": [
    "## Exploring outliers"
   ]
  },
  {
   "cell_type": "code",
   "execution_count": 19,
   "metadata": {},
   "outputs": [
    {
     "data": {
      "text/plain": [
       "(14715, 200)"
      ]
     },
     "execution_count": 19,
     "metadata": {},
     "output_type": "execute_result"
    }
   ],
   "source": [
    "df[(df['TransactionAmt'] < df['TransactionAmt'].quantile(0.025))].shape"
   ]
  },
  {
   "cell_type": "code",
   "execution_count": 20,
   "metadata": {},
   "outputs": [
    {
     "data": {
      "text/plain": [
       "(14764, 200)"
      ]
     },
     "execution_count": 20,
     "metadata": {},
     "output_type": "execute_result"
    }
   ],
   "source": [
    "df[(df['TransactionAmt'] > df['TransactionAmt'].quantile(0.975))].shape"
   ]
  },
  {
   "cell_type": "code",
   "execution_count": 21,
   "metadata": {},
   "outputs": [
    {
     "data": {
      "text/plain": [
       "(14764, 200)"
      ]
     },
     "execution_count": 21,
     "metadata": {},
     "output_type": "execute_result"
    }
   ],
   "source": [
    "df[(df['TransactionDT'] < df['TransactionDT'].quantile(0.025))].shape"
   ]
  },
  {
   "cell_type": "code",
   "execution_count": 22,
   "metadata": {},
   "outputs": [
    {
     "data": {
      "text/plain": [
       "(14764, 200)"
      ]
     },
     "execution_count": 22,
     "metadata": {},
     "output_type": "execute_result"
    }
   ],
   "source": [
    "df[(df['TransactionDT'] > df['TransactionDT'].quantile(0.975))].shape"
   ]
  },
  {
   "cell_type": "code",
   "execution_count": 23,
   "metadata": {},
   "outputs": [],
   "source": [
    "# dropping outliers\n",
    "df.drop(df[(df['TransactionAmt'] > df['TransactionAmt'].quantile(0.975)) \n",
    "           | (df['TransactionAmt'] < df['TransactionAmt'].quantile(0.025))].index,inplace=True)\n",
    "df.drop(df[(df['TransactionDT'] > df['TransactionDT'].quantile(0.975)) \n",
    "           | (df['TransactionDT'] < df['TransactionDT'].quantile(0.025))].index, inplace=True)"
   ]
  },
  {
   "cell_type": "code",
   "execution_count": 24,
   "metadata": {},
   "outputs": [
    {
     "data": {
      "text/plain": [
       "(533007, 200)"
      ]
     },
     "execution_count": 24,
     "metadata": {},
     "output_type": "execute_result"
    }
   ],
   "source": [
    "df.shape"
   ]
  },
  {
   "cell_type": "code",
   "execution_count": 25,
   "metadata": {},
   "outputs": [],
   "source": [
    "# Exploring test dataset\n",
    "test = pd.read_csv('final_test.csv',index_col='TransactionID')\n",
    "test.drop(['Unnamed: 0','Unnamed: 0.1'],axis=1,inplace=True)"
   ]
  },
  {
   "cell_type": "code",
   "execution_count": 26,
   "metadata": {},
   "outputs": [
    {
     "data": {
      "text/html": [
       "<div>\n",
       "<style scoped>\n",
       "    .dataframe tbody tr th:only-of-type {\n",
       "        vertical-align: middle;\n",
       "    }\n",
       "\n",
       "    .dataframe tbody tr th {\n",
       "        vertical-align: top;\n",
       "    }\n",
       "\n",
       "    .dataframe thead th {\n",
       "        text-align: right;\n",
       "    }\n",
       "</style>\n",
       "<table border=\"1\" class=\"dataframe\">\n",
       "  <thead>\n",
       "    <tr style=\"text-align: right;\">\n",
       "      <th></th>\n",
       "      <th>TransactionDT</th>\n",
       "      <th>TransactionAmt</th>\n",
       "      <th>card1</th>\n",
       "      <th>card2</th>\n",
       "      <th>card3</th>\n",
       "      <th>card5</th>\n",
       "      <th>addr1</th>\n",
       "      <th>addr2</th>\n",
       "      <th>C1</th>\n",
       "      <th>C2</th>\n",
       "      <th>...</th>\n",
       "      <th>V312</th>\n",
       "      <th>V313</th>\n",
       "      <th>V314</th>\n",
       "      <th>V315</th>\n",
       "      <th>V316</th>\n",
       "      <th>V317</th>\n",
       "      <th>V318</th>\n",
       "      <th>V319</th>\n",
       "      <th>V320</th>\n",
       "      <th>V321</th>\n",
       "    </tr>\n",
       "  </thead>\n",
       "  <tbody>\n",
       "    <tr>\n",
       "      <td>count</td>\n",
       "      <td>5.066910e+05</td>\n",
       "      <td>506691.000000</td>\n",
       "      <td>506691.000000</td>\n",
       "      <td>506691.000000</td>\n",
       "      <td>506691.000000</td>\n",
       "      <td>506691.000000</td>\n",
       "      <td>506691.000000</td>\n",
       "      <td>506691.000000</td>\n",
       "      <td>506691.000000</td>\n",
       "      <td>506691.000000</td>\n",
       "      <td>...</td>\n",
       "      <td>506691.000000</td>\n",
       "      <td>506691.000000</td>\n",
       "      <td>506691.000000</td>\n",
       "      <td>506691.000000</td>\n",
       "      <td>506691.000000</td>\n",
       "      <td>506691.000000</td>\n",
       "      <td>506691.000000</td>\n",
       "      <td>506691.000000</td>\n",
       "      <td>506691.000000</td>\n",
       "      <td>506691.000000</td>\n",
       "    </tr>\n",
       "    <tr>\n",
       "      <td>mean</td>\n",
       "      <td>2.692994e+07</td>\n",
       "      <td>134.725568</td>\n",
       "      <td>9957.222175</td>\n",
       "      <td>363.735379</td>\n",
       "      <td>153.543409</td>\n",
       "      <td>200.162975</td>\n",
       "      <td>291.846514</td>\n",
       "      <td>86.723412</td>\n",
       "      <td>10.093211</td>\n",
       "      <td>10.714635</td>\n",
       "      <td>...</td>\n",
       "      <td>42.733066</td>\n",
       "      <td>21.238136</td>\n",
       "      <td>43.269524</td>\n",
       "      <td>26.730428</td>\n",
       "      <td>42.077887</td>\n",
       "      <td>83.808337</td>\n",
       "      <td>56.090776</td>\n",
       "      <td>27.620156</td>\n",
       "      <td>46.835629</td>\n",
       "      <td>36.772511</td>\n",
       "    </tr>\n",
       "    <tr>\n",
       "      <td>std</td>\n",
       "      <td>4.756507e+06</td>\n",
       "      <td>245.779822</td>\n",
       "      <td>4884.960969</td>\n",
       "      <td>157.327657</td>\n",
       "      <td>12.406097</td>\n",
       "      <td>40.380048</td>\n",
       "      <td>95.225923</td>\n",
       "      <td>2.787218</td>\n",
       "      <td>79.334547</td>\n",
       "      <td>88.896658</td>\n",
       "      <td>...</td>\n",
       "      <td>467.653243</td>\n",
       "      <td>94.097556</td>\n",
       "      <td>194.424377</td>\n",
       "      <td>114.985818</td>\n",
       "      <td>2249.331438</td>\n",
       "      <td>2919.409384</td>\n",
       "      <td>2263.805246</td>\n",
       "      <td>999.897485</td>\n",
       "      <td>1514.923260</td>\n",
       "      <td>1486.810367</td>\n",
       "    </tr>\n",
       "    <tr>\n",
       "      <td>min</td>\n",
       "      <td>1.840322e+07</td>\n",
       "      <td>0.018000</td>\n",
       "      <td>1001.000000</td>\n",
       "      <td>100.000000</td>\n",
       "      <td>100.000000</td>\n",
       "      <td>100.000000</td>\n",
       "      <td>100.000000</td>\n",
       "      <td>10.000000</td>\n",
       "      <td>0.000000</td>\n",
       "      <td>0.000000</td>\n",
       "      <td>...</td>\n",
       "      <td>0.000000</td>\n",
       "      <td>0.000000</td>\n",
       "      <td>0.000000</td>\n",
       "      <td>0.000000</td>\n",
       "      <td>0.000000</td>\n",
       "      <td>0.000000</td>\n",
       "      <td>0.000000</td>\n",
       "      <td>0.000000</td>\n",
       "      <td>0.000000</td>\n",
       "      <td>0.000000</td>\n",
       "    </tr>\n",
       "    <tr>\n",
       "      <td>25%</td>\n",
       "      <td>2.277154e+07</td>\n",
       "      <td>40.000000</td>\n",
       "      <td>6019.000000</td>\n",
       "      <td>215.000000</td>\n",
       "      <td>150.000000</td>\n",
       "      <td>166.000000</td>\n",
       "      <td>205.000000</td>\n",
       "      <td>87.000000</td>\n",
       "      <td>1.000000</td>\n",
       "      <td>1.000000</td>\n",
       "      <td>...</td>\n",
       "      <td>0.000000</td>\n",
       "      <td>0.000000</td>\n",
       "      <td>0.000000</td>\n",
       "      <td>0.000000</td>\n",
       "      <td>0.000000</td>\n",
       "      <td>0.000000</td>\n",
       "      <td>0.000000</td>\n",
       "      <td>0.000000</td>\n",
       "      <td>0.000000</td>\n",
       "      <td>0.000000</td>\n",
       "    </tr>\n",
       "    <tr>\n",
       "      <td>50%</td>\n",
       "      <td>2.720466e+07</td>\n",
       "      <td>67.950000</td>\n",
       "      <td>9803.000000</td>\n",
       "      <td>363.735379</td>\n",
       "      <td>150.000000</td>\n",
       "      <td>226.000000</td>\n",
       "      <td>291.846514</td>\n",
       "      <td>87.000000</td>\n",
       "      <td>1.000000</td>\n",
       "      <td>1.000000</td>\n",
       "      <td>...</td>\n",
       "      <td>0.000000</td>\n",
       "      <td>0.000000</td>\n",
       "      <td>0.000000</td>\n",
       "      <td>0.000000</td>\n",
       "      <td>0.000000</td>\n",
       "      <td>0.000000</td>\n",
       "      <td>0.000000</td>\n",
       "      <td>0.000000</td>\n",
       "      <td>0.000000</td>\n",
       "      <td>0.000000</td>\n",
       "    </tr>\n",
       "    <tr>\n",
       "      <td>75%</td>\n",
       "      <td>3.134856e+07</td>\n",
       "      <td>125.000000</td>\n",
       "      <td>14276.000000</td>\n",
       "      <td>512.000000</td>\n",
       "      <td>150.000000</td>\n",
       "      <td>226.000000</td>\n",
       "      <td>327.000000</td>\n",
       "      <td>87.000000</td>\n",
       "      <td>3.000000</td>\n",
       "      <td>3.000000</td>\n",
       "      <td>...</td>\n",
       "      <td>0.000000</td>\n",
       "      <td>0.000000</td>\n",
       "      <td>0.000000</td>\n",
       "      <td>0.000000</td>\n",
       "      <td>0.000000</td>\n",
       "      <td>0.000000</td>\n",
       "      <td>0.000000</td>\n",
       "      <td>0.000000</td>\n",
       "      <td>0.000000</td>\n",
       "      <td>0.000000</td>\n",
       "    </tr>\n",
       "    <tr>\n",
       "      <td>max</td>\n",
       "      <td>3.421434e+07</td>\n",
       "      <td>10270.000000</td>\n",
       "      <td>18397.000000</td>\n",
       "      <td>600.000000</td>\n",
       "      <td>232.000000</td>\n",
       "      <td>237.000000</td>\n",
       "      <td>540.000000</td>\n",
       "      <td>102.000000</td>\n",
       "      <td>2950.000000</td>\n",
       "      <td>3275.000000</td>\n",
       "      <td>...</td>\n",
       "      <td>167200.000000</td>\n",
       "      <td>4727.959961</td>\n",
       "      <td>7539.750000</td>\n",
       "      <td>4727.959961</td>\n",
       "      <td>718740.000000</td>\n",
       "      <td>958320.000000</td>\n",
       "      <td>718740.000000</td>\n",
       "      <td>453750.000000</td>\n",
       "      <td>605000.000000</td>\n",
       "      <td>605000.000000</td>\n",
       "    </tr>\n",
       "  </tbody>\n",
       "</table>\n",
       "<p>8 rows × 195 columns</p>\n",
       "</div>"
      ],
      "text/plain": [
       "       TransactionDT  TransactionAmt          card1          card2  \\\n",
       "count   5.066910e+05   506691.000000  506691.000000  506691.000000   \n",
       "mean    2.692994e+07      134.725568    9957.222175     363.735379   \n",
       "std     4.756507e+06      245.779822    4884.960969     157.327657   \n",
       "min     1.840322e+07        0.018000    1001.000000     100.000000   \n",
       "25%     2.277154e+07       40.000000    6019.000000     215.000000   \n",
       "50%     2.720466e+07       67.950000    9803.000000     363.735379   \n",
       "75%     3.134856e+07      125.000000   14276.000000     512.000000   \n",
       "max     3.421434e+07    10270.000000   18397.000000     600.000000   \n",
       "\n",
       "               card3          card5          addr1          addr2  \\\n",
       "count  506691.000000  506691.000000  506691.000000  506691.000000   \n",
       "mean      153.543409     200.162975     291.846514      86.723412   \n",
       "std        12.406097      40.380048      95.225923       2.787218   \n",
       "min       100.000000     100.000000     100.000000      10.000000   \n",
       "25%       150.000000     166.000000     205.000000      87.000000   \n",
       "50%       150.000000     226.000000     291.846514      87.000000   \n",
       "75%       150.000000     226.000000     327.000000      87.000000   \n",
       "max       232.000000     237.000000     540.000000     102.000000   \n",
       "\n",
       "                  C1             C2  ...           V312           V313  \\\n",
       "count  506691.000000  506691.000000  ...  506691.000000  506691.000000   \n",
       "mean       10.093211      10.714635  ...      42.733066      21.238136   \n",
       "std        79.334547      88.896658  ...     467.653243      94.097556   \n",
       "min         0.000000       0.000000  ...       0.000000       0.000000   \n",
       "25%         1.000000       1.000000  ...       0.000000       0.000000   \n",
       "50%         1.000000       1.000000  ...       0.000000       0.000000   \n",
       "75%         3.000000       3.000000  ...       0.000000       0.000000   \n",
       "max      2950.000000    3275.000000  ...  167200.000000    4727.959961   \n",
       "\n",
       "                V314           V315           V316           V317  \\\n",
       "count  506691.000000  506691.000000  506691.000000  506691.000000   \n",
       "mean       43.269524      26.730428      42.077887      83.808337   \n",
       "std       194.424377     114.985818    2249.331438    2919.409384   \n",
       "min         0.000000       0.000000       0.000000       0.000000   \n",
       "25%         0.000000       0.000000       0.000000       0.000000   \n",
       "50%         0.000000       0.000000       0.000000       0.000000   \n",
       "75%         0.000000       0.000000       0.000000       0.000000   \n",
       "max      7539.750000    4727.959961  718740.000000  958320.000000   \n",
       "\n",
       "                V318           V319           V320           V321  \n",
       "count  506691.000000  506691.000000  506691.000000  506691.000000  \n",
       "mean       56.090776      27.620156      46.835629      36.772511  \n",
       "std      2263.805246     999.897485    1514.923260    1486.810367  \n",
       "min         0.000000       0.000000       0.000000       0.000000  \n",
       "25%         0.000000       0.000000       0.000000       0.000000  \n",
       "50%         0.000000       0.000000       0.000000       0.000000  \n",
       "75%         0.000000       0.000000       0.000000       0.000000  \n",
       "max    718740.000000  453750.000000  605000.000000  605000.000000  \n",
       "\n",
       "[8 rows x 195 columns]"
      ]
     },
     "execution_count": 26,
     "metadata": {},
     "output_type": "execute_result"
    }
   ],
   "source": [
    "test.describe()"
   ]
  },
  {
   "cell_type": "code",
   "execution_count": 27,
   "metadata": {},
   "outputs": [
    {
     "name": "stdout",
     "output_type": "stream",
     "text": [
      "mean 134.72556825757712\n",
      "max 10270.0\n",
      "min 0.018000000000000002\n",
      "mode 0    59.0\n",
      "dtype: float64\n",
      "median 67.95\n"
     ]
    }
   ],
   "source": [
    "# TransactionAmt have some outliers\n",
    "print('mean',test['TransactionAmt'].mean())\n",
    "print('max',test['TransactionAmt'].max())\n",
    "print('min',test['TransactionAmt'].min())\n",
    "print('mode',test['TransactionAmt'].mode())\n",
    "print('median',test['TransactionAmt'].median())"
   ]
  },
  {
   "cell_type": "code",
   "execution_count": 28,
   "metadata": {},
   "outputs": [
    {
     "data": {
      "text/plain": [
       "(12643, 199)"
      ]
     },
     "execution_count": 28,
     "metadata": {},
     "output_type": "execute_result"
    }
   ],
   "source": [
    "test[(test['TransactionAmt'] < test['TransactionAmt'].quantile(0.025))].shape"
   ]
  },
  {
   "cell_type": "code",
   "execution_count": 29,
   "metadata": {},
   "outputs": [
    {
     "data": {
      "text/plain": [
       "(12666, 199)"
      ]
     },
     "execution_count": 29,
     "metadata": {},
     "output_type": "execute_result"
    }
   ],
   "source": [
    "test[(test['TransactionAmt'] > test['TransactionAmt'].quantile(0.975))].shape"
   ]
  },
  {
   "cell_type": "code",
   "execution_count": 30,
   "metadata": {},
   "outputs": [
    {
     "data": {
      "text/plain": [
       "(12668, 199)"
      ]
     },
     "execution_count": 30,
     "metadata": {},
     "output_type": "execute_result"
    }
   ],
   "source": [
    "test[(test['TransactionDT'] < test['TransactionDT'].quantile(0.025))].shape"
   ]
  },
  {
   "cell_type": "code",
   "execution_count": 31,
   "metadata": {},
   "outputs": [
    {
     "data": {
      "text/plain": [
       "(12668, 199)"
      ]
     },
     "execution_count": 31,
     "metadata": {},
     "output_type": "execute_result"
    }
   ],
   "source": [
    "test[(test['TransactionDT'] > test['TransactionDT'].quantile(0.975))].shape"
   ]
  },
  {
   "cell_type": "code",
   "execution_count": 32,
   "metadata": {},
   "outputs": [],
   "source": [
    "# dropping outliers\n",
    "test.drop(test[(test['TransactionAmt'] > test['TransactionAmt'].quantile(0.975)) \n",
    "           | (test['TransactionAmt'] < test['TransactionAmt'].quantile(0.025))].index,inplace=True)\n",
    "test.drop(test[(test['TransactionDT'] > test['TransactionDT'].quantile(0.975)) \n",
    "           | (test['TransactionDT'] < test['TransactionDT'].quantile(0.025))].index, inplace=True)"
   ]
  },
  {
   "cell_type": "code",
   "execution_count": 33,
   "metadata": {},
   "outputs": [
    {
     "data": {
      "text/plain": [
       "(457312, 199)"
      ]
     },
     "execution_count": 33,
     "metadata": {},
     "output_type": "execute_result"
    }
   ],
   "source": [
    "test.shape"
   ]
  },
  {
   "cell_type": "code",
   "execution_count": 34,
   "metadata": {},
   "outputs": [
    {
     "data": {
      "text/plain": [
       "<matplotlib.axes._subplots.AxesSubplot at 0x1286ff410>"
      ]
     },
     "execution_count": 34,
     "metadata": {},
     "output_type": "execute_result"
    },
    {
     "data": {
      "image/png": "[encoded data removed]",
      "text/plain": [
       "<Figure size 432x288 with 1 Axes>"
      ]
     },
     "metadata": {
      "needs_background": "light"
     },
     "output_type": "display_data"
    }
   ],
   "source": [
    "# train, test Transaction Time diff\n",
    "df['TransactionDT'].plot()\n",
    "test['TransactionDT'].plot()"
   ]
  },
  {
   "cell_type": "code",
   "execution_count": 35,
   "metadata": {},
   "outputs": [
    {
     "data": {
      "text/plain": [
       "<matplotlib.axes._subplots.AxesSubplot at 0x122d3e210>"
      ]
     },
     "execution_count": 35,
     "metadata": {},
     "output_type": "execute_result"
    },
    {
     "data": {
      "image/png": "[encoded data removed]",
      "text/plain": [
       "<Figure size 432x288 with 1 Axes>"
      ]
     },
     "metadata": {
      "needs_background": "light"
     },
     "output_type": "display_data"
    }
   ],
   "source": [
    "df['TransactionAmt'].plot()\n",
    "test['TransactionAmt'].plot()"
   ]
  },
  {
   "cell_type": "code",
   "execution_count": 82,
   "metadata": {},
   "outputs": [],
   "source": [
    "# # creating dummies\n",
    "# df = pd.get_dummies(df)"
   ]
  },
  {
   "cell_type": "code",
   "execution_count": 83,
   "metadata": {},
   "outputs": [],
   "source": [
    "# test = pd.get_dummies(test)"
   ]
  },
  {
   "cell_type": "code",
   "execution_count": 38,
   "metadata": {},
   "outputs": [],
   "source": [
    "# # save train,test with dummies as pickle\n",
    "# import pickle \n",
    "# pickle_out = open(\"train_dummy.pickle\",\"wb\")\n",
    "# pickle.dump(df, pickle_out)\n",
    "\n",
    "# pickle_out = open(\"test_dummy.pickle\",\"wb\")\n",
    "# pickle.dump(test, pickle_out)\n",
    "# pickle_out.close()"
   ]
  },
  {
   "cell_type": "code",
   "execution_count": 49,
   "metadata": {},
   "outputs": [
    {
     "data": {
      "text/plain": [
       "1081"
      ]
     },
     "execution_count": 49,
     "metadata": {},
     "output_type": "execute_result"
    }
   ],
   "source": [
    "# del df, test\n",
    "gc.collect()"
   ]
  },
  {
   "cell_type": "markdown",
   "metadata": {},
   "source": [
    "## Modeling "
   ]
  },
  {
   "cell_type": "code",
   "execution_count": 2,
   "metadata": {},
   "outputs": [],
   "source": [
    "# basic packages\n",
    "import pandas as pd\n",
    "import numpy as np\n",
    "import gc\n",
    "import matplotlib.pyplot as plt"
   ]
  },
  {
   "cell_type": "code",
   "execution_count": 3,
   "metadata": {},
   "outputs": [],
   "source": [
    "df = pd.read_pickle('datasets/train_dummy.pickle')\n",
    "test = pd.read_pickle('datasets/test_dummy.pickle')"
   ]
  },
  {
   "cell_type": "code",
   "execution_count": 4,
   "metadata": {},
   "outputs": [],
   "source": [
    "# sklearn\n",
    "from sklearn.model_selection import train_test_split\n",
    "from sklearn.ensemble import RandomForestClassifier\n",
    "from imblearn.ensemble import BalancedBaggingClassifier\n",
    "from sklearn.preprocessing import StandardScaler\n",
    "from sklearn.metrics import f1_score,roc_auc_score, recall_score\n",
    "from sklearn.metrics import precision_score, accuracy_score, confusion_matrix\n",
    "from sklearn.metrics import classification_report"
   ]
  },
  {
   "cell_type": "code",
   "execution_count": 5,
   "metadata": {},
   "outputs": [],
   "source": [
    "# target, X\n",
    "y = df['isFraud']\n",
    "X = df.drop('isFraud',axis=1)"
   ]
  },
  {
   "cell_type": "code",
   "execution_count": 6,
   "metadata": {},
   "outputs": [
    {
     "data": {
      "image/png": "[encoded data removed]",
      "text/plain": [
       "<Figure size 432x288 with 1 Axes>"
      ]
     },
     "metadata": {
      "needs_background": "light"
     },
     "output_type": "display_data"
    }
   ],
   "source": [
    "# feature selection with XGBoost\n",
    "\n",
    "from xgboost import XGBClassifier\n",
    "from sklearn.feature_selection import SelectFromModel\n",
    "from xgboost import plot_importance\n",
    "\n",
    "clf = XGBClassifier(n_estimators=100)\n",
    "clf = clf.fit(X, y)\n",
    "\n"
   ]
  },
  {
   "cell_type": "code",
   "execution_count": null,
   "metadata": {},
   "outputs": [],
   "source": [
    "plot_importance(clf,max_num_features=20)\n",
    "plt.show()"
   ]
  },
  {
   "cell_type": "code",
   "execution_count": 27,
   "metadata": {},
   "outputs": [
    {
     "data": {
      "text/plain": [
       "(533007, 68)"
      ]
     },
     "execution_count": 27,
     "metadata": {},
     "output_type": "execute_result"
    }
   ],
   "source": [
    "# # Select From Model\n",
    "# model = SelectFromModel(clf, prefit=True)\n",
    "# X_new = model.transform(X)\n",
    "# X_new.shape        "
   ]
  },
  {
   "cell_type": "code",
   "execution_count": 28,
   "metadata": {},
   "outputs": [],
   "source": [
    "# save selected features\n",
    "# import pickle \n",
    "# pickle_out = open(\"X_new.pickle\",\"wb\")\n",
    "# pickle.dump(X_new, pickle_out)\n",
    "# pickle_out.close()"
   ]
  },
  {
   "cell_type": "code",
   "execution_count": 6,
   "metadata": {},
   "outputs": [
    {
     "data": {
      "text/plain": [
       "(533007, 68)"
      ]
     },
     "execution_count": 6,
     "metadata": {},
     "output_type": "execute_result"
    }
   ],
   "source": [
    "X_new = pd.read_pickle('datasets/X_new.pickle')\n",
    "X_new.shape"
   ]
  },
  {
   "cell_type": "code",
   "execution_count": 7,
   "metadata": {},
   "outputs": [],
   "source": [
    "X_train,X_test,y_train,y_test = train_test_split(X_new,y,test_size=0.2,random_state=1)"
   ]
  },
  {
   "cell_type": "code",
   "execution_count": 60,
   "metadata": {},
   "outputs": [
    {
     "name": "stdout",
     "output_type": "stream",
     "text": [
      "[1]\tvalid_0's binary_logloss: 0.618842\tvalid_0's auc: 0.968974\n",
      "[2]\tvalid_0's binary_logloss: 0.557357\tvalid_0's auc: 0.978979\n",
      "[3]\tvalid_0's binary_logloss: 0.502502\tvalid_0's auc: 0.982929\n",
      "[4]\tvalid_0's binary_logloss: 0.457572\tvalid_0's auc: 0.983572\n",
      "[5]\tvalid_0's binary_logloss: 0.418021\tvalid_0's auc: 0.984759\n",
      "[6]\tvalid_0's binary_logloss: 0.386218\tvalid_0's auc: 0.9853\n",
      "[7]\tvalid_0's binary_logloss: 0.356535\tvalid_0's auc: 0.985722\n",
      "[8]\tvalid_0's binary_logloss: 0.330108\tvalid_0's auc: 0.986515\n",
      "[9]\tvalid_0's binary_logloss: 0.306965\tvalid_0's auc: 0.987038\n",
      "[10]\tvalid_0's binary_logloss: 0.285905\tvalid_0's auc: 0.98769\n",
      "[11]\tvalid_0's binary_logloss: 0.267704\tvalid_0's auc: 0.988242\n",
      "[12]\tvalid_0's binary_logloss: 0.251138\tvalid_0's auc: 0.988445\n",
      "[13]\tvalid_0's binary_logloss: 0.236308\tvalid_0's auc: 0.989062\n",
      "[14]\tvalid_0's binary_logloss: 0.223232\tvalid_0's auc: 0.989309\n",
      "[15]\tvalid_0's binary_logloss: 0.211567\tvalid_0's auc: 0.989656\n",
      "[16]\tvalid_0's binary_logloss: 0.200768\tvalid_0's auc: 0.989934\n",
      "[17]\tvalid_0's binary_logloss: 0.191187\tvalid_0's auc: 0.990135\n",
      "[18]\tvalid_0's binary_logloss: 0.182487\tvalid_0's auc: 0.990517\n",
      "[19]\tvalid_0's binary_logloss: 0.174468\tvalid_0's auc: 0.990716\n",
      "[20]\tvalid_0's binary_logloss: 0.165361\tvalid_0's auc: 0.991273\n",
      "[21]\tvalid_0's binary_logloss: 0.158534\tvalid_0's auc: 0.99143\n",
      "[22]\tvalid_0's binary_logloss: 0.151568\tvalid_0's auc: 0.991716\n",
      "[23]\tvalid_0's binary_logloss: 0.144894\tvalid_0's auc: 0.992348\n",
      "[24]\tvalid_0's binary_logloss: 0.138948\tvalid_0's auc: 0.992615\n",
      "[25]\tvalid_0's binary_logloss: 0.133717\tvalid_0's auc: 0.992788\n",
      "[26]\tvalid_0's binary_logloss: 0.129131\tvalid_0's auc: 0.99299\n",
      "[27]\tvalid_0's binary_logloss: 0.124068\tvalid_0's auc: 0.993228\n",
      "[28]\tvalid_0's binary_logloss: 0.120049\tvalid_0's auc: 0.993362\n",
      "[29]\tvalid_0's binary_logloss: 0.116203\tvalid_0's auc: 0.993541\n",
      "[30]\tvalid_0's binary_logloss: 0.112807\tvalid_0's auc: 0.993658\n",
      "[31]\tvalid_0's binary_logloss: 0.109569\tvalid_0's auc: 0.993788\n",
      "[32]\tvalid_0's binary_logloss: 0.10655\tvalid_0's auc: 0.993913\n",
      "[33]\tvalid_0's binary_logloss: 0.103923\tvalid_0's auc: 0.994003\n",
      "[34]\tvalid_0's binary_logloss: 0.10078\tvalid_0's auc: 0.994191\n",
      "[35]\tvalid_0's binary_logloss: 0.0981847\tvalid_0's auc: 0.994302\n",
      "[36]\tvalid_0's binary_logloss: 0.0958093\tvalid_0's auc: 0.994429\n",
      "[37]\tvalid_0's binary_logloss: 0.093365\tvalid_0's auc: 0.994551\n",
      "[38]\tvalid_0's binary_logloss: 0.0912244\tvalid_0's auc: 0.994621\n",
      "[39]\tvalid_0's binary_logloss: 0.0891623\tvalid_0's auc: 0.994697\n",
      "[40]\tvalid_0's binary_logloss: 0.0873297\tvalid_0's auc: 0.994795\n",
      "[41]\tvalid_0's binary_logloss: 0.0853442\tvalid_0's auc: 0.994881\n",
      "[42]\tvalid_0's binary_logloss: 0.0837188\tvalid_0's auc: 0.99494\n",
      "[43]\tvalid_0's binary_logloss: 0.0821172\tvalid_0's auc: 0.99502\n",
      "[44]\tvalid_0's binary_logloss: 0.0806699\tvalid_0's auc: 0.9951\n",
      "[45]\tvalid_0's binary_logloss: 0.0789858\tvalid_0's auc: 0.995173\n",
      "[46]\tvalid_0's binary_logloss: 0.0776927\tvalid_0's auc: 0.995238\n",
      "[47]\tvalid_0's binary_logloss: 0.0763236\tvalid_0's auc: 0.995316\n",
      "[48]\tvalid_0's binary_logloss: 0.0752253\tvalid_0's auc: 0.995362\n",
      "[49]\tvalid_0's binary_logloss: 0.0740721\tvalid_0's auc: 0.995411\n",
      "[50]\tvalid_0's binary_logloss: 0.0728607\tvalid_0's auc: 0.995474\n",
      "[51]\tvalid_0's binary_logloss: 0.0718643\tvalid_0's auc: 0.995543\n",
      "[52]\tvalid_0's binary_logloss: 0.0709837\tvalid_0's auc: 0.995597\n",
      "[53]\tvalid_0's binary_logloss: 0.0700535\tvalid_0's auc: 0.995664\n",
      "[54]\tvalid_0's binary_logloss: 0.069257\tvalid_0's auc: 0.995709\n",
      "[55]\tvalid_0's binary_logloss: 0.0685591\tvalid_0's auc: 0.995746\n",
      "[56]\tvalid_0's binary_logloss: 0.0677138\tvalid_0's auc: 0.995785\n",
      "[57]\tvalid_0's binary_logloss: 0.0668651\tvalid_0's auc: 0.995831\n",
      "[58]\tvalid_0's binary_logloss: 0.0660209\tvalid_0's auc: 0.995881\n",
      "[59]\tvalid_0's binary_logloss: 0.0652617\tvalid_0's auc: 0.995935\n",
      "[60]\tvalid_0's binary_logloss: 0.0646122\tvalid_0's auc: 0.995981\n",
      "[61]\tvalid_0's binary_logloss: 0.0639296\tvalid_0's auc: 0.996017\n",
      "[62]\tvalid_0's binary_logloss: 0.0632978\tvalid_0's auc: 0.99605\n",
      "[63]\tvalid_0's binary_logloss: 0.062632\tvalid_0's auc: 0.996084\n",
      "[64]\tvalid_0's binary_logloss: 0.0621595\tvalid_0's auc: 0.996122\n",
      "[65]\tvalid_0's binary_logloss: 0.0616512\tvalid_0's auc: 0.996155\n",
      "[66]\tvalid_0's binary_logloss: 0.0611939\tvalid_0's auc: 0.996185\n",
      "[67]\tvalid_0's binary_logloss: 0.0606249\tvalid_0's auc: 0.996214\n",
      "[68]\tvalid_0's binary_logloss: 0.060132\tvalid_0's auc: 0.996246\n",
      "[69]\tvalid_0's binary_logloss: 0.0596419\tvalid_0's auc: 0.996275\n",
      "[70]\tvalid_0's binary_logloss: 0.0591992\tvalid_0's auc: 0.996303\n",
      "[71]\tvalid_0's binary_logloss: 0.0585067\tvalid_0's auc: 0.996331\n",
      "[72]\tvalid_0's binary_logloss: 0.0579955\tvalid_0's auc: 0.996363\n",
      "[73]\tvalid_0's binary_logloss: 0.0576217\tvalid_0's auc: 0.996386\n",
      "[74]\tvalid_0's binary_logloss: 0.0569553\tvalid_0's auc: 0.996423\n",
      "[75]\tvalid_0's binary_logloss: 0.0565774\tvalid_0's auc: 0.996446\n",
      "[76]\tvalid_0's binary_logloss: 0.0561727\tvalid_0's auc: 0.996479\n",
      "[77]\tvalid_0's binary_logloss: 0.0557881\tvalid_0's auc: 0.99651\n",
      "[78]\tvalid_0's binary_logloss: 0.0553513\tvalid_0's auc: 0.996531\n",
      "[79]\tvalid_0's binary_logloss: 0.0549326\tvalid_0's auc: 0.996544\n",
      "[80]\tvalid_0's binary_logloss: 0.0543761\tvalid_0's auc: 0.996565\n",
      "[81]\tvalid_0's binary_logloss: 0.0540454\tvalid_0's auc: 0.996583\n",
      "[82]\tvalid_0's binary_logloss: 0.0537312\tvalid_0's auc: 0.996605\n",
      "[83]\tvalid_0's binary_logloss: 0.0534549\tvalid_0's auc: 0.99662\n",
      "[84]\tvalid_0's binary_logloss: 0.0530321\tvalid_0's auc: 0.996644\n",
      "[85]\tvalid_0's binary_logloss: 0.0525142\tvalid_0's auc: 0.996666\n",
      "[86]\tvalid_0's binary_logloss: 0.0522345\tvalid_0's auc: 0.996682\n",
      "[87]\tvalid_0's binary_logloss: 0.0518848\tvalid_0's auc: 0.996698\n",
      "[88]\tvalid_0's binary_logloss: 0.0516633\tvalid_0's auc: 0.996713\n",
      "[89]\tvalid_0's binary_logloss: 0.051439\tvalid_0's auc: 0.99672\n",
      "[90]\tvalid_0's binary_logloss: 0.0512353\tvalid_0's auc: 0.996733\n",
      "[91]\tvalid_0's binary_logloss: 0.0509396\tvalid_0's auc: 0.996753\n",
      "[92]\tvalid_0's binary_logloss: 0.0507334\tvalid_0's auc: 0.996762\n",
      "[93]\tvalid_0's binary_logloss: 0.0504371\tvalid_0's auc: 0.99678\n",
      "[94]\tvalid_0's binary_logloss: 0.0502394\tvalid_0's auc: 0.996791\n",
      "[95]\tvalid_0's binary_logloss: 0.049961\tvalid_0's auc: 0.996817\n",
      "[96]\tvalid_0's binary_logloss: 0.0497513\tvalid_0's auc: 0.996832\n",
      "[97]\tvalid_0's binary_logloss: 0.0495197\tvalid_0's auc: 0.99685\n",
      "[98]\tvalid_0's binary_logloss: 0.049217\tvalid_0's auc: 0.996863\n",
      "[99]\tvalid_0's binary_logloss: 0.0490413\tvalid_0's auc: 0.996872\n",
      "[100]\tvalid_0's binary_logloss: 0.0488622\tvalid_0's auc: 0.996881\n",
      "Fitting 3 folds for each of 20 candidates, totalling 60 fits\n"
     ]
    },
    {
     "name": "stderr",
     "output_type": "stream",
     "text": [
      "[Parallel(n_jobs=4)]: Using backend LokyBackend with 4 concurrent workers.\n",
      "[Parallel(n_jobs=4)]: Done  42 tasks      | elapsed: 20.7min\n",
      "[Parallel(n_jobs=4)]: Done  60 out of  60 | elapsed: 42.3min finished\n"
     ]
    },
    {
     "ename": "AttributeError",
     "evalue": "'GridSearchCV' object has no attribute 'best_params_'",
     "output_type": "error",
     "traceback": [
      "\u001b[0;31m---------------------------------------------------------------------------\u001b[0m",
      "\u001b[0;31mAttributeError\u001b[0m                            Traceback (most recent call last)",
      "\u001b[0;32m<ipython-input-60-b92efdf0c75c>\u001b[0m in \u001b[0;36m<module>\u001b[0;34m\u001b[0m\n\u001b[1;32m     63\u001b[0m \u001b[0;34m\u001b[0m\u001b[0m\n\u001b[1;32m     64\u001b[0m \u001b[0;34m\u001b[0m\u001b[0m\n\u001b[0;32m---> 65\u001b[0;31m \u001b[0mprint\u001b[0m\u001b[0;34m(\u001b[0m\u001b[0;34m'Best parameters found by grid search are:'\u001b[0m\u001b[0;34m,\u001b[0m \u001b[0mgrid\u001b[0m\u001b[0;34m.\u001b[0m\u001b[0mbest_params_\u001b[0m\u001b[0;34m)\u001b[0m\u001b[0;34m\u001b[0m\u001b[0;34m\u001b[0m\u001b[0m\n\u001b[0m\u001b[1;32m     66\u001b[0m \u001b[0mprint\u001b[0m\u001b[0;34m(\u001b[0m\u001b[0;34m'Best score found by grid search is:'\u001b[0m\u001b[0;34m,\u001b[0m \u001b[0mgrid\u001b[0m\u001b[0;34m.\u001b[0m\u001b[0mbest_score_\u001b[0m\u001b[0;34m)\u001b[0m\u001b[0;34m\u001b[0m\u001b[0;34m\u001b[0m\u001b[0m\n",
      "\u001b[0;31mAttributeError\u001b[0m: 'GridSearchCV' object has no attribute 'best_params_'"
     ]
    }
   ],
   "source": [
    "# light gbm grid search\n",
    "\n",
    "import pandas as pd\n",
    "from sklearn.metrics import roc_auc_score\n",
    "import lightgbm as lgb\n",
    "import matplotlib.pyplot as plt\n",
    "\n",
    "# sklearn tools for model training and assesment\n",
    "from sklearn.model_selection import train_test_split\n",
    "from sklearn.model_selection import PredefinedSplit\n",
    "from sklearn.model_selection import GridSearchCV, ParameterGrid\n",
    "from sklearn.metrics import (roc_curve, auc, accuracy_score)\n",
    "from imblearn.over_sampling import SMOTE\n",
    "\n",
    "\n",
    "\n",
    "y = df['isFraud']\n",
    "X = pd.read_pickle('datasets/X_new.pickle')\n",
    "\n",
    "smt = SMOTE(sampling_strategy='minority',random_state=1)\n",
    "X_resampled, y_resampled = smt.fit_resample(X, y)\n",
    "\n",
    "X_train,X_test,y_train,y_test = train_test_split(X_resampled,\n",
    "                                                 y_resampled,\n",
    "                                                 test_size=0.2,\n",
    "                                                 random_state=1)\n",
    "\n",
    "lgb_train = lgb.Dataset(X_train, y_train)\n",
    "lgb_eval = lgb.Dataset(X_test, y_test, reference=lgb_train)\n",
    "\n",
    "gbm = lgb.train(params,\n",
    "                lgb_train,\n",
    "                valid_sets=lgb_eval)\n",
    "\n",
    "\n",
    "model = lgb.LGBMClassifier( \n",
    "    boosting_type=\"gbdt\",\n",
    "    metrics='auc',\n",
    "    is_unbalance=True, \n",
    "    random_state=10, \n",
    "    n_estimators=50,\n",
    "    num_leaves=30, \n",
    "    max_depth=8,\n",
    "    feature_fraction=0.5,  \n",
    "    bagging_fraction=0.8, \n",
    "    bagging_freq=15, \n",
    "    learning_rate=0.01,    \n",
    ")\n",
    "scoring = {'AUC': 'roc_auc'}\n",
    "\n",
    "# Create the grid\n",
    "\n",
    "params_opt = {'n_estimators':range(200, 600, 80), 'num_leaves':range(20,60,10)}\n",
    "gridSearchCV = GridSearchCV(estimator = model, \n",
    "    param_grid = params_opt, \n",
    "    scoring='roc_auc',\n",
    "    n_jobs=4,\n",
    "    iid=False, \n",
    "    verbose=1,\n",
    "    cv=3)\n",
    "\n",
    "gridSearchCV.fit(X_train,y_train,)"
   ]
  },
  {
   "cell_type": "code",
   "execution_count": 62,
   "metadata": {},
   "outputs": [
    {
     "name": "stdout",
     "output_type": "stream",
     "text": [
      "Best parameters found by grid search are: {'n_estimators': 520, 'num_leaves': 50}\n",
      "Best score found by grid search is: 0.9949248207215131\n",
      "AUC 0.9786520882575676\n"
     ]
    }
   ],
   "source": [
    "print('Best parameters found by grid search are:', gridSearchCV.best_params_)\n",
    "print('Best score found by grid search is:', gridSearchCV.best_score_)\n",
    "\n",
    "y_hat = gridSearchCV.predict(X_test)\n",
    "\n",
    "print('AUC',roc_auc_score(y_test,y_hat))"
   ]
  },
  {
   "cell_type": "code",
   "execution_count": 8,
   "metadata": {},
   "outputs": [
    {
     "name": "stderr",
     "output_type": "stream",
     "text": [
      "/Users/abdygaziev/anaconda3/envs/learn-env/lib/python3.7/site-packages/lightgbm/__init__.py:46: UserWarning: Starting from version 2.2.1, the library file in distribution wheels for macOS is built by the Apple Clang (Xcode_8.3.3) compiler.\n",
      "This means that in case of installing LightGBM from PyPI via the ``pip install lightgbm`` command, you don't need to install the gcc compiler anymore.\n",
      "Instead of that, you need to install the OpenMP library, which is required for running LightGBM on the system with the Apple Clang compiler.\n",
      "You can install the OpenMP library by the following command: ``brew install libomp``.\n",
      "  \"You can install the OpenMP library by the following command: ``brew install libomp``.\", UserWarning)\n"
     ]
    },
    {
     "name": "stdout",
     "output_type": "stream",
     "text": [
      "AUC 0.9786224924130851\n"
     ]
    }
   ],
   "source": [
    "# light gbm grid search\n",
    "\n",
    "import pandas as pd\n",
    "from sklearn.metrics import roc_auc_score\n",
    "import lightgbm as lgb\n",
    "import matplotlib.pyplot as plt\n",
    "\n",
    "# sklearn tools for model training and assesment\n",
    "from sklearn.model_selection import train_test_split\n",
    "from sklearn.model_selection import PredefinedSplit\n",
    "from sklearn.model_selection import GridSearchCV, ParameterGrid\n",
    "from sklearn.metrics import (roc_curve, auc, accuracy_score)\n",
    "from imblearn.over_sampling import SMOTE\n",
    "\n",
    "\n",
    "\n",
    "y = df['isFraud']\n",
    "X = pd.read_pickle('datasets/X_new.pickle')\n",
    "\n",
    "smt = SMOTE(sampling_strategy='minority',random_state=1)\n",
    "X_resampled, y_resampled = smt.fit_resample(X, y)\n",
    "\n",
    "X_train,X_test,y_train,y_test = train_test_split(X_resampled,\n",
    "                                                 y_resampled,\n",
    "                                                 test_size=0.2,\n",
    "                                                 random_state=1)\n",
    "\n",
    "lgb_train = lgb.Dataset(X_train, y_train)\n",
    "lgb_eval = lgb.Dataset(X_test, y_test, reference=lgb_train)\n",
    "\n",
    "\n",
    "model = lgb.LGBMClassifier( \n",
    "    boosting_type=\"gbdt\",\n",
    "    metrics='auc',\n",
    "    is_unbalance=False, \n",
    "    random_state=10, \n",
    "    n_estimators=520,\n",
    "    num_leaves=50, \n",
    "    max_depth=8,\n",
    "    feature_fraction=0.5,  \n",
    "    bagging_fraction=0.8, \n",
    "    bagging_freq=15, \n",
    "    learning_rate=0.01,    \n",
    ")\n",
    "scoring = {'AUC': 'roc_auc'}\n",
    "\n",
    "model.fit(X_train,y_train)\n",
    "y_hat = model.predict(X_test)\n",
    "\n",
    "print('AUC',roc_auc_score(y_test,y_hat))"
   ]
  },
  {
   "cell_type": "code",
   "execution_count": 68,
   "metadata": {},
   "outputs": [
    {
     "data": {
      "text/plain": [
       "<matplotlib.axes._subplots.AxesSubplot at 0x12920d4d0>"
      ]
     },
     "execution_count": 68,
     "metadata": {},
     "output_type": "execute_result"
    },
    {
     "data": {
      "image/png": "[encoded data removed]",
      "text/plain": [
       "<Figure size 1080x576 with 1 Axes>"
      ]
     },
     "metadata": {
      "needs_background": "light"
     },
     "output_type": "display_data"
    }
   ],
   "source": [
    "plot_importance(model,max_num_features=25,importance_type='gain',figsize=(15,8))"
   ]
  },
  {
   "cell_type": "code",
   "execution_count": null,
   "metadata": {},
   "outputs": [],
   "source": [
    "# from lightgbm import plotting\n",
    "# plotting.plot_tree(model,figsize=(150,100)) # plot decision tree\n",
    "\n",
    "# Plotting decision regions\n",
    "x_min, x_max = X_train[:, 0].min() - 1, X_train[:, 0].max() + 1\n",
    "y_min, y_max = X_train[:, 1].min() - 1, X_train[:, 1].max() + 1\n",
    "xx, yy = np.meshgrid(np.arange(x_min, x_max, 0.1),\n",
    "                     np.arange(y_min, y_max, 0.1))\n",
    "\n",
    "f, axarr = plt.subplots(2, 2, sharex='col', sharey='row', figsize=(10, 8))\n",
    "\n",
    "tt = 'LightGBM'\n",
    "Z = model.predict(np.c_[xx.ravel(), yy.ravel()])\n",
    "Z = Z.reshape(xx.shape)\n",
    "\n",
    "axarr[idx[0], idx[1]].contourf(xx, yy, Z, alpha=0.4)\n",
    "axarr[idx[0], idx[1]].scatter(X_train[:, 0], X_train[:, 1], c=y_train,\n",
    "                              s=20, edgecolor='k')\n",
    "axarr[idx[0], idx[1]].set_title(tt)\n",
    "\n",
    "plt.show()"
   ]
  },
  {
   "cell_type": "code",
   "execution_count": 8,
   "metadata": {},
   "outputs": [
    {
     "name": "stderr",
     "output_type": "stream",
     "text": [
      "/Users/abdygaziev/anaconda3/envs/learn-env/lib/python3.7/site-packages/sklearn/svm/base.py:929: ConvergenceWarning: Liblinear failed to converge, increase the number of iterations.\n",
      "  \"the number of iterations.\", ConvergenceWarning)\n"
     ]
    },
    {
     "name": "stdout",
     "output_type": "stream",
     "text": [
      "[[101102   1933]\n",
      " [  3371    196]]\n",
      "Recall 0.09206200093940817\n",
      "Precision 0.054948135688253436\n",
      "AUC_ROC 0.5298976454401749\n",
      "              precision    recall  f1-score   support\n",
      "\n",
      "           0       0.97      0.98      0.97    103035\n",
      "           1       0.09      0.05      0.07      3567\n",
      "\n",
      "    accuracy                           0.95    106602\n",
      "   macro avg       0.53      0.52      0.52    106602\n",
      "weighted avg       0.94      0.95      0.94    106602\n",
      "\n"
     ]
    }
   ],
   "source": [
    "# resampling with RandomOverSampler, SVM\n",
    "\n",
    "from imblearn.over_sampling import RandomOverSampler\n",
    "from sklearn.svm import LinearSVC\n",
    "\n",
    "ros = RandomOverSampler(random_state=0) #resampling\n",
    "X_resampled, y_resampled = ros.fit_resample(X_train, y_train)\n",
    "\n",
    "clf = LinearSVC() # fitting\n",
    "clf.fit(X_resampled, y_resampled)\n",
    "y_pred=clf.predict(X_test)\n",
    "\n",
    "#scores\n",
    "print(confusion_matrix(y_test, y_pred))\n",
    "print('Recall', recall_score(y_pred,y_test))\n",
    "print('Precision',precision_score(y_pred,y_test))\n",
    "print('AUC_ROC',roc_auc_score(y_pred,y_test))\n",
    "print(classification_report(y_test, y_pred))"
   ]
  },
  {
   "cell_type": "code",
   "execution_count": 33,
   "metadata": {},
   "outputs": [
    {
     "name": "stdout",
     "output_type": "stream",
     "text": [
      "[[82249 20786]\n",
      " [  994  2573]]\n",
      "Recall 0.11015026328181857\n",
      "Precision 0.7213344547238576\n",
      "Accuracy 0.795688636235718\n",
      "AUC_ROC 0.5491046596492704\n",
      "              precision    recall  f1-score   support\n",
      "\n",
      "           0       0.99      0.80      0.88    103035\n",
      "           1       0.11      0.72      0.19      3567\n",
      "\n",
      "    accuracy                           0.80    106602\n",
      "   macro avg       0.55      0.76      0.54    106602\n",
      "weighted avg       0.96      0.80      0.86    106602\n",
      "\n"
     ]
    }
   ],
   "source": [
    "from imblearn.ensemble import BalancedRandomForestClassifier\n",
    "\n",
    "clf = BalancedRandomForestClassifier(n_estimators=150,max_depth=3, random_state=0,min_samples_split=10)\n",
    "clf.fit(X_train, y_train)  \n",
    "y_pred = clf.predict(X_test)\n",
    "\n",
    "print(confusion_matrix(y_test, y_pred))\n",
    "print('Recall', recall_score(y_pred,y_test))\n",
    "print('Precision',precision_score(y_pred,y_test))\n",
    "print('Accuracy', accuracy_score(y_test,y_pred))\n",
    "print('AUC_ROC',roc_auc_score(y_pred,y_test))\n",
    "print(classification_report(y_test, y_pred))"
   ]
  },
  {
   "cell_type": "code",
   "execution_count": 9,
   "metadata": {},
   "outputs": [
    {
     "name": "stdout",
     "output_type": "stream",
     "text": [
      "[[100989   2046]\n",
      " [  1670   1897]]\n",
      "Recall 0.48110575703778846\n",
      "Precision 0.5318194561255958\n",
      "AUC_ROC 0.7324191542472765\n",
      "              precision    recall  f1-score   support\n",
      "\n",
      "           0       0.98      0.98      0.98    103035\n",
      "           1       0.48      0.53      0.51      3567\n",
      "\n",
      "    accuracy                           0.97    106602\n",
      "   macro avg       0.73      0.76      0.74    106602\n",
      "weighted avg       0.97      0.97      0.97    106602\n",
      "\n"
     ]
    }
   ],
   "source": [
    "# Applign DecTreeClf without ADASYN\n",
    "\n",
    "from sklearn.tree import DecisionTreeClassifier\n",
    "from sklearn.metrics import classification_report\n",
    "from imblearn.over_sampling import ADASYN\n",
    "\n",
    "clf = DecisionTreeClassifier(random_state=42)\n",
    "adasyn = ADASYN(random_state=0) #resampling\n",
    "X_resampled, y_resampled = adasyn.fit_resample(X_train, y_train)\n",
    "\n",
    "clf.fit(X_resampled,y_resampled)\n",
    "y_pred = clf.predict(X_test)\n",
    "\n",
    "\n",
    "print(confusion_matrix(y_test, y_pred))\n",
    "print('Recall', recall_score(y_pred,y_test))\n",
    "print('Precision',precision_score(y_pred,y_test))\n",
    "print('AUC_ROC',roc_auc_score(y_pred,y_test))\n",
    "print(classification_report(y_test, y_pred))\n"
   ]
  },
  {
   "cell_type": "code",
   "execution_count": 10,
   "metadata": {},
   "outputs": [
    {
     "name": "stderr",
     "output_type": "stream",
     "text": [
      "/Users/abdygaziev/anaconda3/envs/learn-env/lib/python3.7/site-packages/sklearn/ensemble/forest.py:245: FutureWarning: The default value of n_estimators will change from 10 in version 0.20 to 100 in 0.22.\n",
      "  \"10 in version 0.20 to 100 in 0.22.\", FutureWarning)\n"
     ]
    },
    {
     "name": "stdout",
     "output_type": "stream",
     "text": [
      "              precision    recall  f1-score   support\n",
      "\n",
      "           0       0.98      1.00      0.99    102954\n",
      "           1       0.87      0.43      0.58      3648\n",
      "\n",
      "    accuracy                           0.98    106602\n",
      "   macro avg       0.93      0.72      0.78    106602\n",
      "weighted avg       0.98      0.98      0.97    106602\n",
      "\n",
      "[[102726    228]\n",
      " [  2070   1578]]\n",
      "AUC_ROC 0.7151756041021897\n"
     ]
    }
   ],
   "source": [
    "#  pipline , resampling data with final estimator\n",
    "from collections import Counter\n",
    "from sklearn.metrics import confusion_matrix\n",
    "from sklearn.model_selection import train_test_split\n",
    "from sklearn.ensemble import RandomForestClassifier as RFC\n",
    "from sklearn.metrics import classification_report\n",
    "from imblearn.over_sampling import SMOTE\n",
    "from imblearn.pipeline import Pipeline \n",
    "\n",
    "# y = df['isFraud']\n",
    "# X = df.drop('isFraud',axis=1)\n",
    "\n",
    "# pca = PCA(n_components=100)\n",
    "# smt = SMOTE(random_state=42)\n",
    "adasyn = ADASYN(random_state=0) #resampling\n",
    "rf = RFC(min_samples_split=10)\n",
    "pipeline = Pipeline([('adasyn', adasyn), ('rfc', rf)])\n",
    "X_train,X_test,y_train,y_test = train_test_split(X,y, test_size=0.2, random_state=0)\n",
    "\n",
    "pipeline.fit(X_train, y_train) \n",
    "y_hat = pipeline.predict(X_test)\n",
    "\n",
    "print(classification_report(y_test, y_hat))\n",
    "print(confusion_matrix(y_test, y_hat))\n",
    "print('AUC_ROC',roc_auc_score(y_test,y_hat))"
   ]
  },
  {
   "cell_type": "code",
   "execution_count": 15,
   "metadata": {},
   "outputs": [
    {
     "name": "stdout",
     "output_type": "stream",
     "text": [
      "[[102923    112]\n",
      " [  2593    974]]\n",
      "Recall 0.2730585926548921\n",
      "Precision 0.8968692449355433\n",
      "AUC_ROC 0.6359857916930984\n",
      "              precision    recall  f1-score   support\n",
      "\n",
      "           0       0.98      1.00      0.99    103035\n",
      "           1       0.90      0.27      0.42      3567\n",
      "\n",
      "    accuracy                           0.97    106602\n",
      "   macro avg       0.94      0.64      0.70    106602\n",
      "weighted avg       0.97      0.97      0.97    106602\n",
      "\n",
      "0.9746252415526914\n"
     ]
    }
   ],
   "source": [
    "# XGboost, SMOTE\n",
    "from xgboost import XGBClassifier\n",
    "from imblearn.pipeline import Pipeline\n",
    "\n",
    "clf = XGBClassifier(n_estimators=100)\n",
    "smt = SMOTE(random_state=42)\n",
    "\n",
    "pipeline = Pipeline([('smt', smt), ('xgboost', clf)])\n",
    "\n",
    "clf = clf.fit(X_train, y_train)\n",
    "y_pred = clf.predict(X_test)\n",
    "\n",
    "\n",
    "print(confusion_matrix(y_test, y_pred))\n",
    "print('Recall', recall_score(y_test,y_pred))\n",
    "print('Precision',precision_score(y_test,y_pred))\n",
    "print('AUC_ROC',roc_auc_score(y_test,y_pred))\n",
    "print(classification_report(y_test, y_pred))\n",
    "print(accuracy_score(y_pred,y_test))"
   ]
  },
  {
   "cell_type": "code",
   "execution_count": 19,
   "metadata": {},
   "outputs": [
    {
     "name": "stdout",
     "output_type": "stream",
     "text": [
      "3-fold cross validation:\n",
      "\n",
      "Accuracy: 0.88 (+/- 0.00) [KNN]\n",
      "Accuracy: 0.99 (+/- 0.01) [Random Forest]\n",
      "Accuracy: 0.96 (+/- 0.01) [XGBoost]\n",
      "Accuracy: 0.99 (+/- 0.01) [StackingClassifier]\n",
      "[[102713    322]\n",
      " [  1854   1713]]\n",
      "Recall 0.4802354920100925\n",
      "Precision 0.8417690417690418\n",
      "AUC_ROC 0.7385551701812971\n",
      "              precision    recall  f1-score   support\n",
      "\n",
      "           0       0.98      1.00      0.99    103035\n",
      "           1       0.84      0.48      0.61      3567\n",
      "\n",
      "    accuracy                           0.98    106602\n",
      "   macro avg       0.91      0.74      0.80    106602\n",
      "weighted avg       0.98      0.98      0.98    106602\n",
      "\n",
      "0.9795876249976548\n"
     ]
    }
   ],
   "source": [
    "# stacking ensemlbe learning\n",
    "\n",
    "from sklearn.model_selection import cross_val_score\n",
    "from imblearn.over_sampling import SMOTE\n",
    "from sklearn.linear_model import LogisticRegression\n",
    "from sklearn.neighbors import KNeighborsClassifier\n",
    "from xgboost import XGBClassifier \n",
    "from sklearn.ensemble import RandomForestClassifier\n",
    "from mlxtend.classifier import StackingClassifier\n",
    "from sklearn.metrics import roc_auc_score\n",
    "\n",
    "import numpy as np\n",
    "import warnings\n",
    "\n",
    "warnings.simplefilter('ignore')\n",
    "\n",
    "clf1 = KNeighborsClassifier(n_neighbors=3)\n",
    "clf2 = RandomForestClassifier(random_state=1)\n",
    "clf3 = XGBClassifier()\n",
    "lr = LogisticRegression()\n",
    "sclf = StackingClassifier(classifiers=[clf1, clf2, clf3], \n",
    "                          meta_classifier=lr)\n",
    "\n",
    "smt = SMOTE(random_state=42)\n",
    "X_resampled, y_resampled = smt.fit_resample(X_train, y_train)\n",
    "\n",
    "print('3-fold cross validation:\\n')\n",
    "\n",
    "\n",
    "\n",
    "for clf, label in zip([clf1, clf2, clf3, sclf], \n",
    "                      ['KNN', \n",
    "                       'Random Forest', \n",
    "                       'XGBoost',\n",
    "                       'StackingClassifier']):\n",
    "\n",
    "    scores = cross_val_score(clf, X_resampled, y_resampled, \n",
    "                                              cv=3, scoring='accuracy')\n",
    "    print(\"Accuracy: %0.2f (+/- %0.2f) [%s]\" \n",
    "          % (scores.mean(), scores.std(), label))\n",
    "    \n",
    "    \n",
    "sclf.fit(X_resampled,y_resampled)\n",
    "y_hat = sclf.predict(X_test)\n",
    "print(confusion_matrix(y_test, y_hat))\n",
    "print('Recall', recall_score(y_test,y_hat))\n",
    "print('Precision',precision_score(y_test,y_hat))\n",
    "print('AUC_ROC',roc_auc_score(y_test,y_hat))\n",
    "print(classification_report(y_test, y_hat))\n",
    "print(accuracy_score(y_test,y_hat))"
   ]
  },
  {
   "cell_type": "code",
   "execution_count": 20,
   "metadata": {},
   "outputs": [
    {
     "name": "stdout",
     "output_type": "stream",
     "text": [
      "3-fold cross validation:\n",
      "\n",
      "Accuracy: 0.87 (+/- 0.00) [KNN]\n",
      "Accuracy: 0.99 (+/- 0.01) [Random Forest]\n",
      "Accuracy: 0.49 (+/- 0.00) [Naive Bayes]\n",
      "Accuracy: 0.99 (+/- 0.01) [StackingClassifier]\n",
      "[[102734    301]\n",
      " [  1750   1817]]\n",
      "Recall 0.5093916456405944\n",
      "Precision 0.8578847969782813\n",
      "AUC_ROC 0.7532351541154881\n",
      "              precision    recall  f1-score   support\n",
      "\n",
      "           0       0.98      1.00      0.99    103035\n",
      "           1       0.86      0.51      0.64      3567\n",
      "\n",
      "    accuracy                           0.98    106602\n",
      "   macro avg       0.92      0.75      0.81    106602\n",
      "weighted avg       0.98      0.98      0.98    106602\n",
      "\n",
      "0.9807602108778447\n"
     ]
    }
   ],
   "source": [
    "# stacking ensemlbe learning\n",
    "\n",
    "from sklearn.model_selection import cross_val_score\n",
    "from imblearn.over_sampling import SMOTE\n",
    "from sklearn.linear_model import LogisticRegression\n",
    "from sklearn.linear_model import SGDClassifier\n",
    "from sklearn.neighbors import KNeighborsClassifier\n",
    "from sklearn.naive_bayes import GaussianNB\n",
    "from sklearn.ensemble import RandomForestClassifier\n",
    "from mlxtend.classifier import StackingClassifier\n",
    "from sklearn.metrics import roc_auc_score\n",
    "\n",
    "import numpy as np\n",
    "import warnings\n",
    "\n",
    "warnings.simplefilter('ignore')\n",
    "\n",
    "clf1 = KNeighborsClassifier(n_neighbors=5)\n",
    "clf2 = RandomForestClassifier(n_estimators=100,random_state=1)\n",
    "clf3 = GaussianNB()\n",
    "sgdc = SGDClassifier()\n",
    "sclf = StackingClassifier(classifiers=[clf1, clf2, clf3], \n",
    "                          meta_classifier=sgdc)\n",
    "\n",
    "smt = SMOTE(random_state=42)\n",
    "X_resampled, y_resampled = smt.fit_resample(X_train, y_train)\n",
    "\n",
    "print('3-fold cross validation:\\n')\n",
    "\n",
    "\n",
    "\n",
    "for clf, label in zip([clf1, clf2, clf3, sclf], \n",
    "                      ['KNN', \n",
    "                       'Random Forest', \n",
    "                       'Naive Bayes',\n",
    "                       'StackingClassifier']):\n",
    "\n",
    "    scores = cross_val_score(clf, X_resampled, y_resampled, \n",
    "                                              cv=3, scoring='accuracy')\n",
    "    print(\"Accuracy: %0.2f (+/- %0.2f) [%s]\" \n",
    "          % (scores.mean(), scores.std(), label))\n",
    "    \n",
    "    \n",
    "sclf.fit(X_resampled,y_resampled)\n",
    "y_hat = sclf.predict(X_test)\n",
    "print(confusion_matrix(y_test, y_hat))\n",
    "print('Recall', recall_score(y_test,y_hat))\n",
    "print('Precision',precision_score(y_test,y_hat))\n",
    "print('AUC_ROC',roc_auc_score(y_test,y_hat))\n",
    "print(classification_report(y_test, y_hat))\n",
    "print(accuracy_score(y_test,y_hat))"
   ]
  },
  {
   "cell_type": "code",
   "execution_count": 51,
   "metadata": {},
   "outputs": [
    {
     "name": "stdout",
     "output_type": "stream",
     "text": [
      "Starting training...\n",
      "[1]\tvalid_0's auc: 0.83038\n",
      "Training until validation scores don't improve for 5 rounds.\n",
      "[2]\tvalid_0's auc: 0.838034\n",
      "[3]\tvalid_0's auc: 0.838415\n",
      "[4]\tvalid_0's auc: 0.841641\n",
      "[5]\tvalid_0's auc: 0.841834\n",
      "[6]\tvalid_0's auc: 0.84227\n",
      "[7]\tvalid_0's auc: 0.842256\n",
      "[8]\tvalid_0's auc: 0.843816\n",
      "[9]\tvalid_0's auc: 0.843916\n",
      "[10]\tvalid_0's auc: 0.845371\n",
      "[11]\tvalid_0's auc: 0.846366\n",
      "[12]\tvalid_0's auc: 0.846081\n",
      "[13]\tvalid_0's auc: 0.846122\n",
      "[14]\tvalid_0's auc: 0.846648\n",
      "[15]\tvalid_0's auc: 0.846781\n",
      "[16]\tvalid_0's auc: 0.84756\n",
      "[17]\tvalid_0's auc: 0.847556\n",
      "[18]\tvalid_0's auc: 0.848104\n",
      "[19]\tvalid_0's auc: 0.848161\n",
      "[20]\tvalid_0's auc: 0.848487\n",
      "Did not meet early stopping. Best iteration is:\n",
      "[20]\tvalid_0's auc: 0.848487\n",
      "Saving model...\n",
      "Starting predicting...\n",
      "AUC_ROC 0.8484872878619899\n"
     ]
    },
    {
     "data": {
      "text/plain": [
       "<matplotlib.axes._subplots.AxesSubplot at 0x148faad50>"
      ]
     },
     "execution_count": 51,
     "metadata": {},
     "output_type": "execute_result"
    },
    {
     "data": {
      "image/png": "[encoded data removed]",
      "text/plain": [
       "<Figure size 432x288 with 1 Axes>"
      ]
     },
     "metadata": {
      "needs_background": "light"
     },
     "output_type": "display_data"
    }
   ],
   "source": [
    "# lightgbm\n",
    "\n",
    "import lightgbm as lgb\n",
    "from lightgbm import plot_importance\n",
    "import pandas as pd\n",
    "from sklearn.metrics import mean_squared_error\n",
    "from imblearn.over_sampling import SMOTE\n",
    "\n",
    "smt = SMOTE(random_state=42)\n",
    "X_resampled, y_resampled = smt.fit_resample(X_train, y_train)\n",
    "\n",
    "lgb_train = lgb.Dataset(X_resampled, y_resampled)\n",
    "lgb_eval = lgb.Dataset(X_test, y_test, reference=lgb_train)\n",
    "\n",
    "params = {'num_leaves':60,\n",
    "        'min_child_samples': 30,\n",
    "        'boosting_type': 'gbdt',\n",
    "        'objective': 'binary',\n",
    "        'objective': 'binary',\n",
    "        'max_depth': 13,\n",
    "        'learning_rate': 0.03,\n",
    "        \"subsample_freq\": 3,\n",
    "        \"subsample\": 0.9,\n",
    "        \"bagging_seed\": 11,\n",
    "        \"metric\": 'auc',\n",
    "        \"verbosity\": -1,\n",
    "        'reg_alpha': 0.3,\n",
    "        'reg_lambda': 0.3,\n",
    "        'colsample_bytree': 0.9,\n",
    "}\n",
    "\n",
    "print('Starting training...')\n",
    "\n",
    "# train\n",
    "gbm = lgb.train(params,\n",
    "                lgb_train,\n",
    "                num_boost_round=20,\n",
    "                valid_sets=lgb_eval,\n",
    "                early_stopping_rounds=5)\n",
    "\n",
    "print('Saving model...')\n",
    "# save model to file\n",
    "gbm.save_model('mod_1.txt')\n",
    "\n",
    "print('Starting predicting...')\n",
    "# predict\n",
    "y_pred = gbm.predict(X_test, num_iteration=gbm.best_iteration)\n",
    "# eval\n",
    "# print('Accuracy',accuracy_score(y_test,y_pred,normalize=False))\n",
    "print('AUC_ROC',roc_auc_score(y_test,y_pred))\n",
    "plot_importance(gbm)\n",
    "# print(classification_report(y_test, y_pred))"
   ]
  },
  {
   "cell_type": "code",
   "execution_count": 10,
   "metadata": {
    "collapsed": true,
    "jupyter": {
     "outputs_hidden": true
    }
   },
   "outputs": [
    {
     "name": "stdout",
     "output_type": "stream",
     "text": [
      "task:         [classification]\n",
      "n_classes:    [2]\n",
      "metric:       [roc_auc_score]\n",
      "mode:         [oof_pred_bag]\n",
      "n_models:     [3]\n",
      "\n",
      "model  0:     [ExtraTreesClassifier]\n",
      "    fold  0:  [0.76190869]\n",
      "    fold  1:  [0.75992876]\n",
      "    fold  2:  [0.75975658]\n",
      "    fold  3:  [0.75942174]\n",
      "    ----\n",
      "    MEAN:     [0.76025394] + [0.00097261]\n",
      "    FULL:     [0.76025395]\n",
      "\n",
      "model  1:     [RandomForestClassifier]\n",
      "    fold  0:  [0.86944601]\n",
      "    fold  1:  [0.87014481]\n",
      "    fold  2:  [0.86946415]\n",
      "    fold  3:  [0.87090059]\n",
      "    ----\n",
      "    MEAN:     [0.86998889] + [0.00059699]\n",
      "    FULL:     [0.86998889]\n",
      "\n",
      "model  2:     [XGBClassifier]\n",
      "    fold  0:  [0.96105169]\n",
      "    fold  1:  [0.96158064]\n",
      "    fold  2:  [0.96003222]\n",
      "    fold  3:  [0.96096396]\n",
      "    ----\n",
      "    MEAN:     [0.96090713] + [0.00055750]\n",
      "    FULL:     [0.96090713]\n",
      "\n"
     ]
    }
   ],
   "source": [
    "# stacking model\n",
    "\n",
    "from sklearn.model_selection import train_test_split\n",
    "from sklearn.metrics import accuracy_score\n",
    "from sklearn.ensemble import ExtraTreesClassifier\n",
    "from sklearn.ensemble import RandomForestClassifier\n",
    "import pandas as pd\n",
    "from sklearn.metrics import mean_squared_error\n",
    "from imblearn.over_sampling import SMOTE\n",
    "from vecstack import stacking\n",
    "\n",
    "clf1 = ExtraTreesClassifier(n_estimators=100, max_depth=3,random_state=0, n_jobs=-1)\n",
    "clf2 = RandomForestClassifier(random_state=0, n_jobs=-1, n_estimators=100, max_depth=3)\n",
    "clf3 = XGBClassifier(random_state=0, n_jobs=-1, learning_rate=0.1, n_estimators=100, max_depth=3)\n",
    "\n",
    "smt = SMOTE(random_state=42,sampling_strategy='minority',k_neighbors=3)\n",
    "\n",
    "X_resampled, y_resampled = smt.fit_resample(X_train, y_train)\n",
    "\n",
    "models = [clf1,clf2,clf3]\n",
    "\n",
    "\n",
    "\n",
    "\n",
    "S_train, S_test = stacking(models,                     # list of models\n",
    "                           X_resampled, y_resampled, X_test,   # data\n",
    "                           regression=False,           # classification task (if you need \n",
    "                                                       #     regression - set to True)\n",
    "                           mode='oof_pred_bag',        # mode: oof for train set, predict test \n",
    "                                                       #     set in each fold and vote\n",
    "                           needs_proba=False,          # predict class labels (if you need \n",
    "                                                       #     probabilities - set to True) \n",
    "                           save_dir=None,              # do not save result and log (to save \n",
    "                                                       #     in current dir - set to '.')\n",
    "                           metric=roc_auc_score,      # metric: callable\n",
    "                           n_folds=4,                  # number of folds\n",
    "                           stratified=True,            # stratified split for folds\n",
    "                           shuffle=True,               # shuffle the data\n",
    "                           random_state=0,             # ensure reproducibility\n",
    "                           verbose=2)                  # print all info\n",
    "\n"
   ]
  },
  {
   "cell_type": "code",
   "execution_count": 15,
   "metadata": {
    "collapsed": true,
    "jupyter": {
     "outputs_hidden": true,
     "source_hidden": true
    }
   },
   "outputs": [
    {
     "name": "stdout",
     "output_type": "stream",
     "text": [
      "Starting training...\n",
      "[1]\tvalid_0's auc: 0.770078\n",
      "Training until validation scores don't improve for 5 rounds.\n",
      "[2]\tvalid_0's auc: 0.79471\n",
      "[3]\tvalid_0's auc: 0.794519\n",
      "[4]\tvalid_0's auc: 0.79471\n",
      "[5]\tvalid_0's auc: 0.79471\n",
      "[6]\tvalid_0's auc: 0.79471\n",
      "[7]\tvalid_0's auc: 0.79471\n",
      "Early stopping, best iteration is:\n",
      "[2]\tvalid_0's auc: 0.79471\n",
      "Starting predicting...\n",
      "AUC_ROC 0.5\n"
     ]
    }
   ],
   "source": [
    "# Initialize 2nd level model\n",
    "model = XGBClassifier(random_state=0, n_jobs=-1, learning_rate=0.1, \n",
    "                      n_estimators=100, max_depth=3)\n",
    "    \n",
    "# Fit 2nd level model\n",
    "model = model.fit(S_train, y_resampled)\n",
    "\n",
    "# Predict\n",
    "y_pred = model.predict(S_test)\n",
    "\n",
    "# Final prediction score\n",
    "print('Final prediction score: [%.8f]' % roc_auc_score(y_test, y_pred))"
   ]
  }
 ],
 "metadata": {
  "kernelspec": {
   "display_name": "Python 3",
   "language": "python",
   "name": "python3"
  },
  "language_info": {
   "codemirror_mode": {
    "name": "ipython",
    "version": 3
   },
   "file_extension": ".py",
   "mimetype": "text/x-python",
   "name": "python",
   "nbconvert_exporter": "python",
   "pygments_lexer": "ipython3",
   "version": "3.7.4"
  }
 },
 "nbformat": 4,
 "nbformat_minor": 4
}
